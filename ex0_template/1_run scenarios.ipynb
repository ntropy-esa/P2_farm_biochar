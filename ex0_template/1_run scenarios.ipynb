{
 "cells": [
  {
   "cell_type": "markdown",
   "metadata": {
    "slideshow": {
     "slide_type": "slide"
    }
   },
   "source": [
    "# Example 0: a demonstration\n",
    "\n",
    "Template notebook"
   ]
  },
  {
   "cell_type": "markdown",
   "metadata": {},
   "source": [
    "Some imports..."
   ]
  },
  {
   "cell_type": "code",
   "execution_count": 2,
   "metadata": {
    "init_cell": true,
    "slideshow": {
     "slide_type": "skip"
    }
   },
   "outputs": [],
   "source": [
    "import sys, os, re\n",
    "# add module directory to system path, relative\n",
    "sys.path.insert(0, os.path.join('..', 'farm_biochar_model'))\n",
    "# add module directory to system path, absolute\n",
    "sys.path.insert(0, os.path.join(os.getcwd(),'..', 'farm_biochar_model')) \n",
    "\n",
    "# import components of farm_biochar_model\n",
    "import farm_demand as fd # energy demand\n",
    "import farm_supply as fs # energy supply\n",
    "import farm_ficus as ff # unit commitment solver\n",
    "import farm_bw2 as fb # life cycle analysis\n",
    "\n",
    "# other libraries (in environment)\n",
    "import pandas as pd\n",
    "import numpy as np\n",
    "import matplotlib.pylab as plt"
   ]
  },
  {
   "cell_type": "markdown",
   "metadata": {},
   "source": [
    "Some folder and file paths..."
   ]
  },
  {
   "cell_type": "code",
   "execution_count": 3,
   "metadata": {},
   "outputs": [],
   "source": [
    "# absolute folder path\n",
    "afp = 'C:/Users/eazzi/Box Sync/KTH_PhD_HeavyData/P2_farm_biochar'\n",
    "# example folder name\n",
    "ex = '/ex0_template'\n",
    "\n",
    "# Input files that are used...\n",
    "## SMHI Weather data\n",
    "smhi_folder = afp+ex+'/input_files/'\n",
    "smhi_files=['smhi-opendata_1_86420_20190321_121405.csv', 'smhi-opendata_1_86420_20190321_121419.csv']\n",
    "\n",
    "## Energy Plants data\n",
    "plants_folder= afp+'/farm_biochar_model/'\n",
    "plants_file= 'farm_supply_plants.xlsx'\n",
    "\n",
    "## Electricity Mix Emission Factor\n",
    "el_folder = afp+ex+'/input_files/'\n",
    "el_file='powermix-se.xlsx'\n",
    "el_tab = 'powermix-se_2018'\n",
    "\n",
    "\n",
    "# Output files that will be generated...\n",
    "## Ficus input model (generated)\n",
    "ficus_files = ex+'/output_files/' #will be saved in..\n",
    "\n",
    "## Ficus result (generated)\n",
    "ficus_result_folder = afp+ex+'/output_files' #will be saved in..\n",
    "\n",
    "# See ficus documentation, for details https://ficus.readthedocs.io/\n",
    "\n",
    "# bw2 path to db, only if project is new\n",
    "ei_name = \"ecoinvent 3.3 cutoff\"\n",
    "ei_path = \"C:\\\\Users\\\\eazzi\\\\Box Sync\\\\KTH_PhD_HeavyData\\\\ecoinvent_3.3_cutoff_ecoSpold02\\\\datasets\\\\\"\n",
    "\n",
    "# bw2 project name and scenario_prefix_activity\n",
    "proj=\"cs1_Lindeborgs\"\n",
    "fg_db = \"farmEnergySystem\"\n"
   ]
  },
  {
   "cell_type": "markdown",
   "metadata": {
    "slideshow": {
     "slide_type": "skip"
    }
   },
   "source": [
    "## Simple model run: one technology, one year"
   ]
  },
  {
   "cell_type": "markdown",
   "metadata": {},
   "source": [
    "Define parameters of the simulation...\n",
    "\n",
    "Unless re-defined in the next simulations, the parameters defined here are the ones used in all simulations."
   ]
  },
  {
   "cell_type": "code",
   "execution_count": 3,
   "metadata": {
    "slideshow": {
     "slide_type": "skip"
    }
   },
   "outputs": [],
   "source": [
    "# Scenario name\n",
    "scenario = 'playing_around'\n",
    "# Year to study\n",
    "year='2017'\n",
    "calendar=False\n",
    "\n",
    "# Heating demand\n",
    "ref_year= ['1996', '2010'] #'2017' # Heat demand reference year\n",
    "T_max = 17 # Outdoor temperature above which no heating is required\n",
    "\n",
    "# Building properties\n",
    "##Case 3: mixed declarations, new building bioenergy, old-ones on electricity\n",
    "a = np.array([400, 150, 90]) # New values; 89 = A_temp from Boverket; 140 = based on bo+bi area online; 400 : Carl + Maps check\n",
    "w = np.array([0.08, 0.065, 0.05])# share hot water\n",
    "e = np.array([90, 154*1.6, 154*1.6]) #kWh/m2/yr, from Boverket, electricity input PEF-corrected (new Boverket norm)\n",
    "c = np.array([1/1.6*3, 1/1.6*3, 1/1.6*3]) # /PEF *COP # conversion fuel input to final heat\n",
    "\n",
    "# Annual electrical demand\n",
    "elec_yr = 11000 # kWh\n",
    "\n",
    "# Plants of interest, for the scenario\n",
    "plantsAvailable = ['pyrBMC50t', 'el. heater', 'hp'] # select among list in plants_file # BioGreen60\n",
    "\n",
    "# Time steps [ficus]\n",
    "tb = 3600*24 # s, e.g. hourly = 3600; monthly = 3600*730 (h/month); daily = 3600*24 \n",
    "tb_start = 1 # interval for optimisation, 1..365 = full year\n",
    "tb_end = 365 # # e.g. daily, 365 = last day of the year\n",
    "\n",
    "# List of commodities [ficus]\n",
    "commodities_imp = ['elec', 'pellets'] # importable commodities\n",
    "commodities_exp = ['elec', 'biochar'] # exportable commodities\n",
    "commodities = commodities_imp + list(set(commodities_exp) - set(commodities_imp)) # all commodities, unique list\n",
    "import_max = ['inf', 'inf', 0] # in order as commodities\n",
    "export_max = ['inf', 0, 'inf'] \n",
    "\n",
    "# Emission factor for commodities other than electricity\n",
    "## Pellets\n",
    "ef_pellets = 0.13286474045379412 # market for wood pellets, RER kg CO2/kg dry pellets\n",
    "LHV_pellets = 18/3.6 # kWh/kg dry pellets\n",
    "ef_pellets = ef_pellets / LHV_pellets *1000 # gCO2/kWh dry pellets\n",
    "## Biochar\n",
    "biochar_seq = 0.8*0.8*44/12*1000 # gCO2/kg biochar; biochar is not in kWh but in kg of biochar; we assume 80% C with 80% remaining after 100y\n",
    "\n",
    "# Input Ficus file names, scenario names\n",
    "ficus_scenario = scenario+'.xlsx'\n",
    "\n",
    "# Output Ficus \n",
    "result_name = os.path.splitext(os.path.split(afp+ficus_files+ficus_scenario)[1])[0]\n",
    "#resultfile = os.path.join(ficus_result_folder, 'result-{}.xlsx'.format(result_name))\n",
    "\n",
    "# ficus output folder to bw2\n",
    "p2e=tb/3600 # 24h, conversion from kW to kWh\n",
    "\n",
    "# ficus input folder to bw2\n",
    "processes = plantsAvailable\n",
    "\n",
    "\n",
    "# bw2 project name and scenario_prefix_activity\n",
    "act_suffix= scenario\n",
    "fu_name= \"farmEnergy_\"+act_suffix"
   ]
  },
  {
   "cell_type": "code",
   "execution_count": 4,
   "metadata": {
    "slideshow": {
     "slide_type": "fragment"
    }
   },
   "outputs": [
    {
     "name": "stdout",
     "output_type": "stream",
     "text": [
      "Parsing SMHI weather data: smhi-opendata_1_86420_20190321_121405.csv\n",
      "Parsing SMHI weather data: smhi-opendata_1_86420_20190321_121419.csv\n",
      "Total heat demand is  178380.0  kWh of which 6.717961654894046 % hot water\n",
      "Reference year:  ['1996', '2010']\n",
      "Building heating signature:  -1.6587481186847277  kW/K\n",
      "Average yearly degreedays:  -100314.50714285717  degree-hour/year\n",
      "Returning farm_demand DataFrame\n"
     ]
    }
   ],
   "source": [
    "farm_demand = fd.run_scn_demand(smhi_folder, smhi_files,\n",
    "                                areas=a, energiprestande=e, water_share=w, cop_corr=c,\n",
    "                                ref_year=ref_year, T_max=T_max, cc=False, cc_scen=False)"
   ]
  },
  {
   "cell_type": "code",
   "execution_count": 18,
   "metadata": {
    "collapsed": true
   },
   "outputs": [
    {
     "name": "stdout",
     "output_type": "stream",
     "text": [
      "Parsing sample_plants\n",
      "Calculating data for ficus input folder\n",
      "Writing ficus input file\n"
     ]
    }
   ],
   "source": [
    "# plants parsed and ficus file written\n",
    "farm_supply = fs.run_scn_ficus_writer(plants_folder, plants_file,\n",
    "                                      tb, tb_start, tb_end, \n",
    "                                      calendar,\n",
    "                                      commodities_imp, commodities_exp, import_max, export_max, \n",
    "                                      el_folder, el_file, el_tab, \n",
    "                                      ef_pellets, biochar_seq, \n",
    "                                      plantsAvailable, farm_demand, year, elec_yr,\n",
    "                                      afp, ficus_files, scenario)\n",
    "\n",
    "# create output folder for that file\n",
    "result_dir = ff.prepare_result_directory(afp+ex+'/output_files', scenario)"
   ]
  },
  {
   "cell_type": "code",
   "execution_count": 17,
   "metadata": {
    "collapsed": true,
    "slideshow": {
     "slide_type": "skip"
    }
   },
   "outputs": [
    {
     "name": "stdout",
     "output_type": "stream",
     "text": [
      "Read Data ...\n",
      "\n",
      "Data Read. time: 0.1 s\n",
      "\n",
      "Prepare Data ...\n",
      "\n",
      "Data Prepared. time: 0.1 s\n",
      "\n",
      "Define Model ...\n",
      "\n",
      "Model Defined. time: 10.3 s\n",
      "\n",
      "Solve Model ...\n",
      "\n",
      "\n",
      "Welcome to IBM(R) ILOG(R) CPLEX(R) Interactive Optimizer 12.8.0.0\n",
      "  with Simplex, Mixed Integer & Barrier Optimizers\n",
      "5725-A06 5725-A29 5724-Y48 5724-Y49 5724-Y54 5724-Y55 5655-Y21\n",
      "Copyright IBM Corp. 1988, 2017.  All Rights Reserved.\n",
      "\n",
      "Type 'help' for a list of available commands.\n",
      "Type 'help' followed by a command name for more\n",
      "information on commands.\n",
      "\n",
      "CPLEX> Logfile 'cplex.log' closed.\n",
      "Logfile 'C:\\Users\\eazzi\\AppData\\Local\\Temp\\tmposw5avwu.cplex.log' open.\n",
      "CPLEX> New value for default parallel thread count: 2\n",
      "CPLEX> Problem 'C:\\Users\\eazzi\\AppData\\Local\\Temp\\tmp947yyy5q.pyomo.lp' read.\n",
      "Read time = 0.03 sec. (2.70 ticks)\n",
      "CPLEX> Problem name         : C:\\Users\\eazzi\\AppData\\Local\\Temp\\tmp947yyy5q.pyomo.lp\n",
      "Objective sense      : Minimize\n",
      "Variables            :   12809  [Nneg: 8783,  Free: 2928,  Binary: 1098]\n",
      "Objective nonzeros   :       8\n",
      "Linear constraints   :   29959  [Less: 22625,  Greater: 2195,  Equal: 5139]\n",
      "  Nonzeros           :   72612\n",
      "  RHS nonzeros       :    8767\n",
      "\n",
      "Variables            : Min LB: 0.0000000        Max UB: 1.000000       \n",
      "Objective nonzeros   : Min   : 1.000000         Max   : 1.000000       \n",
      "Linear constraints   :\n",
      "  Nonzeros           : Min   : 0.02250000       Max   : 56320.00       \n",
      "  RHS nonzeros       : Min   : 1.000000         Max   : 160899.8       \n",
      "CPLEX> CPXPARAM_Threads                                 2\n",
      "Tried aggregator 3 times.\n",
      "MIP Presolve eliminated 25866 rows and 9636 columns.\n",
      "MIP Presolve modified 15908 coefficients.\n",
      "Aggregator did 1112 substitutions.\n",
      "Reduced MIP has 2981 rows, 2061 columns, and 7400 nonzeros.\n",
      "Reduced MIP has 757 binaries, 0 generals, 0 SOSs, and 0 indicators.\n",
      "Presolve time = 0.05 sec. (44.69 ticks)\n",
      "Found incumbent of value 7468843.636186 after 0.05 sec. (49.18 ticks)\n",
      "Probing fixed 4 vars, tightened 2 bounds.\n",
      "Probing changed sense of 10 constraints.\n",
      "Probing time = 0.00 sec. (4.08 ticks)\n",
      "Tried aggregator 121 times.\n",
      "MIP Presolve eliminated 1068 rows and 775 columns.\n",
      "MIP Presolve modified 8 coefficients.\n",
      "Aggregator did 385 substitutions.\n",
      "Reduced MIP has 1528 rows, 901 columns, and 4085 nonzeros.\n",
      "Reduced MIP has 673 binaries, 0 generals, 0 SOSs, and 0 indicators.\n",
      "Presolve time = 0.22 sec. (250.24 ticks)\n",
      "Probing time = 0.00 sec. (1.92 ticks)\n",
      "Tried aggregator 1 time.\n",
      "MIP Presolve eliminated 1 rows and 0 columns.\n",
      "Reduced MIP has 1527 rows, 901 columns, and 4082 nonzeros.\n",
      "Reduced MIP has 673 binaries, 0 generals, 0 SOSs, and 0 indicators.\n",
      "Presolve time = 0.01 sec. (2.90 ticks)\n",
      "Probing time = 0.00 sec. (1.92 ticks)\n",
      "Clique table members: 3010.\n",
      "MIP emphasis: balance optimality and feasibility.\n",
      "MIP search method: dynamic search.\n",
      "Parallel mode: deterministic, using up to 2 threads.\n",
      "Root relaxation solution time = 0.00 sec. (2.10 ticks)\n",
      "\n",
      "        Nodes                                         Cuts/\n",
      "   Node  Left     Objective  IInf  Best Integer    Best Bound    ItCnt     Gap\n",
      "\n",
      "*     0+    0                      6602045.9874  -1.20795e+07           282.97%\n",
      "*     0+    0                      5903096.4198  -1.20795e+07           304.63%\n",
      "*     0+    0                      -1.13555e+07  -1.20795e+07             6.38%\n",
      "*     0     0      integral     0  -1.20795e+07  -1.20795e+07        5    0.00%\n",
      "Elapsed time = 0.30 sec. (320.10 ticks, tree = 0.00 MB, solutions = 5)\n",
      "\n",
      "Root node processing (before b&c):\n",
      "  Real time             =    0.30 sec. (320.93 ticks)\n",
      "Parallel b&c, 2 threads:\n",
      "  Real time             =    0.00 sec. (0.00 ticks)\n",
      "  Sync time (average)   =    0.00 sec.\n",
      "  Wait time (average)   =    0.00 sec.\n",
      "                          ------------\n",
      "Total (root+branch&cut) =    0.30 sec. (320.93 ticks)\n",
      "\n",
      "Solution pool: 5 solutions saved.\n",
      "\n",
      "MIP - Integer optimal solution:  Objective = -1.2079510331e+07\n",
      "Solution time =    0.30 sec.  Iterations = 5  Nodes = 0\n",
      "Deterministic time = 320.96 ticks  (1080.69 ticks/sec)\n",
      "\n",
      "CPLEX> Incumbent solution written to file 'C:\\Users\\eazzi\\AppData\\Local\\Temp\\tmpz5bg4ap4.cplex.sol'.\n",
      "CPLEX> Model Solved. time: 2.0 s\n",
      "\n",
      "Load Results ...\n",
      "\n",
      "Results Loaded. time: 0.0 s\n",
      "\n",
      "Total Time: 12.5 s\n",
      "\n",
      "Save Results to Reportfile...\n",
      "\n",
      "Results Saved. time: 0.5 s\n",
      "\n"
     ]
    }
   ],
   "source": [
    "# run ficus unit commitment\n",
    "prob = ff.run_ficus(afp+ficus_files+scenario+'.xlsx', opt = 'cplex', MipGap = 0)\n",
    "\n",
    "# saving ficus report and figures\n",
    "ff.report(prob, result_dir)\n",
    "ff.result_figures(result_dir,prob=prob, show=False)"
   ]
  },
  {
   "cell_type": "code",
   "execution_count": 6,
   "metadata": {},
   "outputs": [],
   "source": [
    "result_dir = ff.prepare_result_directory(afp+ex+'/output_files', scenario)"
   ]
  },
  {
   "cell_type": "code",
   "execution_count": 8,
   "metadata": {
    "scrolled": false,
    "slideshow": {
     "slide_type": "skip"
    }
   },
   "outputs": [
    {
     "name": "stdout",
     "output_type": "stream",
     "text": [
      "Biochar produced annually:  biochar_production    7.978247\n",
      "dtype: float64  tons\n",
      "Compile ficus lci and lcia\n",
      "-12.079510330862032 ton CO2-eq, net score, for 1 year of farm-energy\n",
      "Towards bw2...\n",
      "bw2# Add production processes, manufacturing, and start-ups\n",
      "bw2# Add technosphere and biosphere flows to each production process\n",
      "## bw2 Calculate apparent mix for ... pyrBMC50t\n",
      "## bw2 Calculate apparent mix for ... el. heater\n",
      "## bw2 Calculate apparent mix for ... hp\n",
      "Current project is:  cs1_Lindeborgs\n",
      "Read only mode:  False\n"
     ]
    },
    {
     "name": "stderr",
     "output_type": "stream",
     "text": [
      "Writing activities to SQLite3 database:\n",
      "0% [##############################] 100% | ETA: 00:00:00\n",
      "Total time elapsed: 00:00:00\n"
     ]
    },
    {
     "name": "stdout",
     "output_type": "stream",
     "text": [
      "Title: Writing activities to SQLite3 database:\n",
      "  Started: 03/18/2020 18:47:00\n",
      "  Finished: 03/18/2020 18:47:00\n",
      "  Total time elapsed: 00:00:00\n",
      "  CPU %: 85.10\n",
      "  Memory %: 1.82\n",
      "Scenario  playing_around  is now ready for analysis in Activity-Browser\n"
     ]
    }
   ],
   "source": [
    "# printing final report and bw2-LCA\n",
    "lci_t, lcia_t = fb.run_scn_bw2(result_dir, 'result-'+scenario+'.xlsx',\n",
    "                               year, calendar, p2e, plantsAvailable,\n",
    "                               afp, ficus_files, scenario,\n",
    "                               proj, fg_db, fresh_db=False, plantEmissions=True, plantManufacturing=True, show_plot = False)"
   ]
  },
  {
   "cell_type": "markdown",
   "metadata": {},
   "source": [
    "## Simulation A) Series of year, with BioMaCon50kW\n",
    "### First without climate change\n",
    "Simulation A in manuscript: model run for several years, to estimate variability and trend in Lindeborg's biochar production"
   ]
  },
  {
   "cell_type": "code",
   "execution_count": null,
   "metadata": {},
   "outputs": [],
   "source": [
    "farm_demand = fd.run_scn_demand(smhi_folder, smhi_files,\n",
    "                                areas=a, energiprestande=e, water_share=w, cop_corr=c,\n",
    "                                ref_year=ref_year, T_max=T_max, cc=False, cc_scen=False)"
   ]
  },
  {
   "cell_type": "code",
   "execution_count": 7,
   "metadata": {
    "scrolled": true
   },
   "outputs": [
    {
     "name": "stdout",
     "output_type": "stream",
     "text": [
      "2000 >>>  162736.9185057321  kWh/yr\n",
      "Parsing sample_plants\n",
      "Calculating data for ficus input folder\n",
      "Writing ficus input file\n"
     ]
    },
    {
     "name": "stderr",
     "output_type": "stream",
     "text": [
      "C:\\Users\\eazzi\\AppData\\Local\\conda\\conda\\envs\\bw2\\lib\\site-packages\\openpyxl\\worksheet\\_reader.py:296: UserWarning: Unknown extension is not supported and will be removed\n",
      "  warn(msg)\n",
      "C:\\Users\\eazzi\\AppData\\Local\\conda\\conda\\envs\\bw2\\lib\\site-packages\\openpyxl\\worksheet\\_reader.py:296: UserWarning: Conditional Formatting extension is not supported and will be removed\n",
      "  warn(msg)\n"
     ]
    },
    {
     "name": "stdout",
     "output_type": "stream",
     "text": [
      "Read Data ...\n",
      "\n",
      "Data Read. time: 0.2 s\n",
      "\n",
      "Prepare Data ...\n",
      "\n",
      "Data Prepared. time: 0.1 s\n",
      "\n",
      "Define Model ...\n",
      "\n",
      "Model Defined. time: 10.8 s\n",
      "\n",
      "Solve Model ...\n",
      "\n",
      "\n",
      "Welcome to IBM(R) ILOG(R) CPLEX(R) Interactive Optimizer 12.8.0.0\n",
      "  with Simplex, Mixed Integer & Barrier Optimizers\n",
      "5725-A06 5725-A29 5724-Y48 5724-Y49 5724-Y54 5724-Y55 5655-Y21\n",
      "Copyright IBM Corp. 1988, 2017.  All Rights Reserved.\n",
      "\n",
      "Type 'help' for a list of available commands.\n",
      "Type 'help' followed by a command name for more\n",
      "information on commands.\n",
      "\n",
      "CPLEX> Logfile 'cplex.log' closed.\n",
      "Logfile 'C:\\Users\\eazzi\\AppData\\Local\\Temp\\tmpfvrsp811.cplex.log' open.\n",
      "CPLEX> New value for default parallel thread count: 2\n",
      "CPLEX> Problem 'C:\\Users\\eazzi\\AppData\\Local\\Temp\\tmp0w3rg7xl.pyomo.lp' read.\n",
      "Read time = 0.03 sec. (2.70 ticks)\n",
      "CPLEX> Problem name         : C:\\Users\\eazzi\\AppData\\Local\\Temp\\tmp0w3rg7xl.pyomo.lp\n",
      "Objective sense      : Minimize\n",
      "Variables            :   12809  [Nneg: 8783,  Free: 2928,  Binary: 1098]\n",
      "Objective nonzeros   :       8\n",
      "Linear constraints   :   29959  [Less: 22625,  Greater: 2195,  Equal: 5139]\n",
      "  Nonzeros           :   72612\n",
      "  RHS nonzeros       :    8767\n",
      "\n",
      "Variables            : Min LB: 0.0000000        Max UB: 1.000000       \n",
      "Objective nonzeros   : Min   : 1.000000         Max   : 1.000000       \n",
      "Linear constraints   :\n",
      "  Nonzeros           : Min   : 0.02250000       Max   : 56320.00       \n",
      "  RHS nonzeros       : Min   : 1.000000         Max   : 162736.9       \n",
      "CPLEX> CPXPARAM_Threads                                 2\n",
      "Tried aggregator 3 times.\n",
      "MIP Presolve eliminated 26128 rows and 9806 columns.\n",
      "MIP Presolve modified 15896 coefficients.\n",
      "Aggregator did 1048 substitutions.\n",
      "Reduced MIP has 2783 rows, 1955 columns, and 6878 nonzeros.\n",
      "Reduced MIP has 719 binaries, 0 generals, 0 SOSs, and 0 indicators.\n",
      "Presolve time = 0.03 sec. (44.32 ticks)\n",
      "Found incumbent of value 7455637.815150 after 0.03 sec. (48.69 ticks)\n",
      "Probing fixed 6 vars, tightened 3 bounds.\n",
      "Probing changed sense of 1 constraints.\n",
      "Probing time = 0.02 sec. (3.37 ticks)\n",
      "Tried aggregator 139 times.\n",
      "MIP Presolve eliminated 1046 rows and 769 columns.\n",
      "MIP Presolve modified 3 coefficients.\n",
      "Aggregator did 386 substitutions.\n",
      "Reduced MIP has 1351 rows, 800 columns, and 3624 nonzeros.\n",
      "Reduced MIP has 616 binaries, 0 generals, 0 SOSs, and 0 indicators.\n",
      "Presolve time = 0.22 sec. (244.98 ticks)\n",
      "Probing time = 0.01 sec. (1.74 ticks)\n",
      "Tried aggregator 1 time.\n",
      "Reduced MIP has 1351 rows, 800 columns, and 3624 nonzeros.\n",
      "Reduced MIP has 616 binaries, 0 generals, 0 SOSs, and 0 indicators.\n",
      "Presolve time = 0.00 sec. (2.53 ticks)\n",
      "Probing time = 0.00 sec. (1.74 ticks)\n",
      "Clique table members: 2662.\n",
      "MIP emphasis: balance optimality and feasibility.\n",
      "MIP search method: dynamic search.\n",
      "Parallel mode: deterministic, using up to 2 threads.\n",
      "Root relaxation solution time = 0.00 sec. (1.23 ticks)\n",
      "\n",
      "        Nodes                                         Cuts/\n",
      "   Node  Left     Objective  IInf  Best Integer    Best Bound    ItCnt     Gap\n",
      "\n",
      "*     0+    0                      6337110.1605 -9428685.3967           248.79%\n",
      "*     0+    0                      5421970.4283 -9428685.3967           273.90%\n",
      "*     0     0      integral     0 -9428685.3967 -9428685.3967        3    0.00%\n",
      "Elapsed time = 0.30 sec. (311.33 ticks, tree = 0.00 MB, solutions = 4)\n",
      "\n",
      "Root node processing (before b&c):\n",
      "  Real time             =    0.30 sec. (312.07 ticks)\n",
      "Parallel b&c, 2 threads:\n",
      "  Real time             =    0.00 sec. (0.00 ticks)\n",
      "  Sync time (average)   =    0.00 sec.\n",
      "  Wait time (average)   =    0.00 sec.\n",
      "                          ------------\n",
      "Total (root+branch&cut) =    0.30 sec. (312.07 ticks)\n",
      "\n",
      "Solution pool: 4 solutions saved.\n",
      "\n",
      "MIP - Integer optimal solution:  Objective = -9.4286853967e+06\n",
      "Solution time =    0.30 sec.  Iterations = 3  Nodes = 0\n",
      "Deterministic time = 312.10 ticks  (1050.85 ticks/sec)\n",
      "\n",
      "CPLEX> Incumbent solution written to file 'C:\\Users\\eazzi\\AppData\\Local\\Temp\\tmpklxqru8e.cplex.sol'.\n",
      "CPLEX> Model Solved. time: 1.8 s\n",
      "\n",
      "Load Results ...\n",
      "\n",
      "Results Loaded. time: 0.0 s\n",
      "\n",
      "Total Time: 12.9 s\n",
      "\n",
      "Save Results to Reportfile...\n",
      "\n",
      "Results Saved. time: 0.6 s\n",
      "\n"
     ]
    },
    {
     "name": "stderr",
     "output_type": "stream",
     "text": [
      "C:\\Users\\eazzi\\Box Sync\\KTH_PhD_HeavyData\\P2_farm_biochar\\ex1_Lindeborg\\..\\farm_biochar_model\\farm_ficus.py:2202: FutureWarning: Method .as_matrix will be removed in a future version. Use .values instead.\n",
      "  sp_crtd = ax0.stackplot(step_edit_x(created.index), step_edit_y(created.as_matrix().T), linewidth=0.15)\n",
      "C:\\Users\\eazzi\\Box Sync\\KTH_PhD_HeavyData\\P2_farm_biochar\\ex1_Lindeborg\\..\\farm_biochar_model\\farm_ficus.py:2212: FutureWarning: Method .as_matrix will be removed in a future version. Use .values instead.\n",
      "  sp_csmd = ax0.stackplot(step_edit_x(consumed.index), step_edit_y(-consumed.as_matrix().T), linewidth=0.15)\n",
      "C:\\Users\\eazzi\\AppData\\Local\\conda\\conda\\envs\\bw2\\lib\\site-packages\\matplotlib\\tight_layout.py:181: UserWarning: Tight layout not applied. The bottom and top margins cannot be made large enough to accommodate all axes decorations. \n",
      "  warnings.warn('Tight layout not applied. '\n"
     ]
    },
    {
     "name": "stdout",
     "output_type": "stream",
     "text": [
      "Biochar produced annually:  biochar_production    6.524784\n",
      "dtype: float64  tons\n",
      "Compile ficus lci and lcia\n",
      "-9.42868539672138 ton CO2-eq, net score, for 1 year of farm-energy\n",
      "Towards bw2...\n",
      "bw2# Add production processes, manufacturing, and start-ups\n",
      "bw2# Add technosphere and biosphere flows to each production process\n",
      "## bw2 Calculate apparent mix for ... pyrBMC50t\n",
      "## bw2 Calculate apparent mix for ... el. heater\n",
      "## bw2 Calculate apparent mix for ... hp\n",
      "Current project is:  cs1_Lindeborgs\n",
      "Read only mode:  False\n"
     ]
    },
    {
     "name": "stderr",
     "output_type": "stream",
     "text": [
      "Writing activities to SQLite3 database:\n",
      "0% [##############################] 100% | ETA: 00:00:00\n",
      "Total time elapsed: 00:00:00\n"
     ]
    },
    {
     "name": "stdout",
     "output_type": "stream",
     "text": [
      "Title: Writing activities to SQLite3 database:\n",
      "  Started: 03/18/2020 17:14:08\n",
      "  Finished: 03/18/2020 17:14:09\n",
      "  Total time elapsed: 00:00:00\n",
      "  CPU %: 70.50\n",
      "  Memory %: 2.06\n",
      "Scenario  BioMaCon50kW_PL5MO7_loop_2000  is now ready for analysis in Activity-Browser\n",
      "2001 >>>  156251.0698335508  kWh/yr\n",
      "Parsing sample_plants\n",
      "Calculating data for ficus input folder\n",
      "Writing ficus input file\n",
      "Read Data ...\n",
      "\n",
      "Data Read. time: 0.1 s\n",
      "\n",
      "Prepare Data ...\n",
      "\n",
      "Data Prepared. time: 0.1 s\n",
      "\n",
      "Define Model ...\n",
      "\n",
      "Model Defined. time: 11.1 s\n",
      "\n",
      "Solve Model ...\n",
      "\n",
      "\n",
      "Welcome to IBM(R) ILOG(R) CPLEX(R) Interactive Optimizer 12.8.0.0\n",
      "  with Simplex, Mixed Integer & Barrier Optimizers\n",
      "5725-A06 5725-A29 5724-Y48 5724-Y49 5724-Y54 5724-Y55 5655-Y21\n",
      "Copyright IBM Corp. 1988, 2017.  All Rights Reserved.\n",
      "\n",
      "Type 'help' for a list of available commands.\n",
      "Type 'help' followed by a command name for more\n",
      "information on commands.\n",
      "\n",
      "CPLEX> Logfile 'cplex.log' closed.\n",
      "Logfile 'C:\\Users\\eazzi\\AppData\\Local\\Temp\\tmpznz4urfu.cplex.log' open.\n",
      "CPLEX> New value for default parallel thread count: 2\n",
      "CPLEX> Problem 'C:\\Users\\eazzi\\AppData\\Local\\Temp\\tmp3bgiyybj.pyomo.lp' read.\n",
      "Read time = 0.03 sec. (2.70 ticks)\n",
      "CPLEX> Problem name         : C:\\Users\\eazzi\\AppData\\Local\\Temp\\tmp3bgiyybj.pyomo.lp\n",
      "Objective sense      : Minimize\n",
      "Variables            :   12809  [Nneg: 8783,  Free: 2928,  Binary: 1098]\n",
      "Objective nonzeros   :       8\n",
      "Linear constraints   :   29959  [Less: 22625,  Greater: 2195,  Equal: 5139]\n",
      "  Nonzeros           :   72612\n",
      "  RHS nonzeros       :    8767\n",
      "\n",
      "Variables            : Min LB: 0.0000000        Max UB: 1.000000       \n",
      "Objective nonzeros   : Min   : 1.000000         Max   : 1.000000       \n",
      "Linear constraints   :\n",
      "  Nonzeros           : Min   : 0.02250000       Max   : 56320.00       \n",
      "  RHS nonzeros       : Min   : 1.000000         Max   : 156251.1       \n",
      "CPLEX> CPXPARAM_Threads                                 2\n",
      "Tried aggregator 3 times.\n",
      "MIP Presolve eliminated 26215 rows and 9853 columns.\n",
      "MIP Presolve modified 15913 coefficients.\n",
      "Aggregator did 1035 substitutions.\n",
      "Reduced MIP has 2709 rows, 1921 columns, and 6637 nonzeros.\n",
      "Reduced MIP has 710 binaries, 0 generals, 0 SOSs, and 0 indicators.\n",
      "Presolve time = 0.05 sec. (45.13 ticks)\n",
      "Found incumbent of value 6120246.210492 after 0.05 sec. (49.46 ticks)\n",
      "Probing fixed 6 vars, tightened 3 bounds.\n",
      "Probing changed sense of 7 constraints.\n",
      "Probing time = 0.00 sec. (3.43 ticks)\n",
      "Tried aggregator 114 times.\n",
      "MIP Presolve eliminated 994 rows and 747 columns.\n",
      "MIP Presolve modified 3 coefficients.\n",
      "Aggregator did 357 substitutions.\n",
      "Reduced MIP has 1358 rows, 817 columns, and 3569 nonzeros.\n",
      "Reduced MIP has 643 binaries, 0 generals, 0 SOSs, and 0 indicators.\n",
      "Presolve time = 0.20 sec. (226.74 ticks)\n",
      "Probing time = 0.00 sec. (1.65 ticks)\n",
      "Tried aggregator 1 time.\n",
      "Reduced MIP has 1358 rows, 817 columns, and 3569 nonzeros.\n",
      "Reduced MIP has 643 binaries, 0 generals, 0 SOSs, and 0 indicators.\n",
      "Presolve time = 0.02 sec. (2.51 ticks)\n",
      "Probing time = 0.00 sec. (1.67 ticks)\n",
      "Clique table members: 2652.\n",
      "MIP emphasis: balance optimality and feasibility.\n",
      "MIP search method: dynamic search.\n",
      "Parallel mode: deterministic, using up to 2 threads.\n",
      "Root relaxation solution time = 0.00 sec. (1.24 ticks)\n",
      "\n",
      "        Nodes                                         Cuts/\n",
      "   Node  Left     Objective  IInf  Best Integer    Best Bound    ItCnt     Gap\n",
      "\n",
      "*     0+    0                      5351217.5328 -8298385.5629           255.07%\n",
      "*     0+    0                      4034080.7672 -8298385.5629           305.71%\n",
      "*     0     0      integral     0 -8298385.5629 -8298385.5629        4    0.00%\n",
      "Elapsed time = 0.27 sec. (293.68 ticks, tree = 0.00 MB, solutions = 4)\n",
      "\n",
      "Root node processing (before b&c):\n",
      "  Real time             =    0.28 sec. (294.42 ticks)\n",
      "Parallel b&c, 2 threads:\n",
      "  Real time             =    0.00 sec. (0.00 ticks)\n",
      "  Sync time (average)   =    0.00 sec.\n",
      "  Wait time (average)   =    0.00 sec.\n",
      "                          ------------\n",
      "Total (root+branch&cut) =    0.28 sec. (294.42 ticks)\n",
      "\n",
      "Solution pool: 4 solutions saved.\n",
      "\n",
      "MIP - Integer optimal solution:  Objective = -8.2983855629e+06\n",
      "Solution time =    0.28 sec.  Iterations = 4  Nodes = 0\n",
      "Deterministic time = 294.45 ticks  (1047.88 ticks/sec)\n",
      "\n",
      "CPLEX> Incumbent solution written to file 'C:\\Users\\eazzi\\AppData\\Local\\Temp\\tmpbbj85lyf.cplex.sol'.\n",
      "CPLEX> Model Solved. time: 1.8 s\n",
      "\n",
      "Load Results ...\n",
      "\n",
      "Results Loaded. time: 0.0 s\n",
      "\n",
      "Total Time: 13.1 s\n",
      "\n",
      "Save Results to Reportfile...\n",
      "\n",
      "Results Saved. time: 0.5 s\n",
      "\n"
     ]
    },
    {
     "name": "stderr",
     "output_type": "stream",
     "text": [
      "C:\\Users\\eazzi\\AppData\\Local\\conda\\conda\\envs\\bw2\\lib\\site-packages\\matplotlib\\tight_layout.py:211: UserWarning: Tight layout not applied. tight_layout cannot make axes height small enough to accommodate all axes decorations\n",
      "  warnings.warn('Tight layout not applied. '\n"
     ]
    },
    {
     "name": "stdout",
     "output_type": "stream",
     "text": [
      "Biochar produced annually:  biochar_production    5.96582\n",
      "dtype: float64  tons\n",
      "Compile ficus lci and lcia\n",
      "-8.29838556293427 ton CO2-eq, net score, for 1 year of farm-energy\n",
      "Towards bw2...\n",
      "bw2# Add production processes, manufacturing, and start-ups\n",
      "bw2# Add technosphere and biosphere flows to each production process\n",
      "## bw2 Calculate apparent mix for ... pyrBMC50t\n",
      "## bw2 Calculate apparent mix for ... el. heater\n",
      "## bw2 Calculate apparent mix for ... hp\n",
      "Current project is:  cs1_Lindeborgs\n",
      "Read only mode:  False\n"
     ]
    },
    {
     "name": "stderr",
     "output_type": "stream",
     "text": [
      "Writing activities to SQLite3 database:\n",
      "0% [##############################] 100% | ETA: 00:00:00\n",
      "Total time elapsed: 00:00:00\n"
     ]
    },
    {
     "name": "stdout",
     "output_type": "stream",
     "text": [
      "Title: Writing activities to SQLite3 database:\n",
      "  Started: 03/18/2020 17:14:59\n",
      "  Finished: 03/18/2020 17:14:59\n",
      "  Total time elapsed: 00:00:00\n",
      "  CPU %: 72.30\n",
      "  Memory %: 2.23\n",
      "Scenario  BioMaCon50kW_PL5MO7_loop_2001  is now ready for analysis in Activity-Browser\n"
     ]
    }
   ],
   "source": [
    "years = ['2000','2001', '2002','2003','2004','2005','2006','2007','2008','2009', '2010','2011','2012',\n",
    "         '2013','2014','2015','2016','2017']\n",
    "plantsAvailable = ['pyrBMC50t', 'el. heater', 'hp'] # select among list in plants_file\n",
    "\n",
    "# 2010 >>> https://en.wikipedia.org/wiki/2010_Swedish_cold_waves\n",
    "for year in years:\n",
    "    calendar=False\n",
    "    monthday = ['-01-01','-12-31'] if calendar else ['-08-01','-07-31']\n",
    "    year_txt = [year, year] if calendar else [year, str(int(year)+1)]\n",
    "    tmp = fs.selectInterval(farm_demand.resample('D').mean(), year_txt[0]+monthday[0], year_txt[1]+monthday[1])\n",
    "    print(year, '>>> ', tmp.sum().sum()*p2e, ' kWh/yr')\n",
    "    \n",
    "    scenario = 'BioMaCon50kW_PL5MO7_loop_'+year #'BioMaCon50kW_PL5MO7MWh186_loop_'+year\n",
    "    # to run scenario with different PL (part-load) or MO (min-operation time), \n",
    "    # edit the plant properties in the Excel file and name scenario differently\n",
    "    # alternatively, create new plant-processes, and change the list plantsAvailable\n",
    "    \n",
    "    # plants parsed and ficus file written\n",
    "    farm_supply = fs.run_scn_ficus_writer(plants_folder, plants_file,\n",
    "                                          tb, tb_start, tb_end, \n",
    "                                          calendar,\n",
    "                                          commodities_imp, commodities_exp, import_max, export_max, \n",
    "                                          el_folder, el_file, el_tab, \n",
    "                                          ef_pellets, biochar_seq, \n",
    "                                          plantsAvailable, farm_demand, year, elec_yr,\n",
    "                                          afp, ficus_files, scenario)\n",
    "    # run ficus milp\n",
    "    prob = ff.run_ficus(afp+ficus_files+scenario+'.xlsx', opt = 'cplex', MipGap = 0)\n",
    "\n",
    "    # saving ficus report and figures\n",
    "    result_dir = ff.prepare_result_directory(afp+ex+'/output_files', scenario)\n",
    "    ff.report(prob, result_dir)\n",
    "    ff.result_figures(result_dir,prob=prob, show=False)\n",
    "    # printing final report and bw2-LCA\n",
    "    \n",
    "    lci_t, lcia_t = fb.run_scn_bw2(result_dir, 'result-'+scenario+'.xlsx',\n",
    "                                    year, calendar, p2e, plantsAvailable,\n",
    "                                    afp, ficus_files, scenario,\n",
    "                                    proj, fg_db, fresh_db=False,\n",
    "                                    plantEmissions=True, plantManufacturing=True, show_plot = False)"
   ]
  },
  {
   "cell_type": "markdown",
   "metadata": {},
   "source": [
    "### Then, with climate change in Sweden\n",
    "Below, with climate change effect on future heat demand"
   ]
  },
  {
   "cell_type": "code",
   "execution_count": 8,
   "metadata": {
    "scrolled": true
   },
   "outputs": [
    {
     "name": "stdout",
     "output_type": "stream",
     "text": [
      "Parsing SMHI weather data: smhi-opendata_1_86420_20190321_121405.csv\n",
      "Parsing SMHI weather data: smhi-opendata_1_86420_20190321_121419.csv\n",
      "Total heat demand is  178380.0  kWh of which 6.717961654894046 % hot water\n",
      "Reference year:  ['1996', '2010']\n",
      "Building heating signature:  -1.6587481186847277  kW/K\n",
      "Average yearly degreedays:  -100314.50714285717  degree-hour/year\n",
      "Returning farm_demand DataFrame\n"
     ]
    }
   ],
   "source": [
    "farm_demand = fd.run_scn_demand(smhi_folder, smhi_files,\n",
    "                                areas=a, energiprestande=e, water_share=w, cop_corr=c,\n",
    "                                ref_year=ref_year, T_max=T_max, \n",
    "                                cc=True, cc_scen=[2,1.5,1.5,1.25])\n",
    "# [3,3,3,3] [2,2,2,2] [1,1,1,1] [0,0,0,0] / [1.5,1.5,1.5,1.5] \n",
    "#Heating_kW    1.738662e+06  1.910015e+06  2.088681e+06  2.273893e+06\n",
    "#Water_kW      1.657804e+05  1.657804e+05  1.657804e+05  1.657804e+05"
   ]
  },
  {
   "cell_type": "markdown",
   "metadata": {},
   "source": [
    "And re-run the loop from #2.1, with different name"
   ]
  },
  {
   "cell_type": "code",
   "execution_count": 9,
   "metadata": {
    "scrolled": true
   },
   "outputs": [
    {
     "name": "stdout",
     "output_type": "stream",
     "text": [
      "2000 >>>  142736.2709807834  kWh/yr\n",
      "Parsing sample_plants\n",
      "Calculating data for ficus input folder\n",
      "Writing ficus input file\n",
      "Read Data ...\n",
      "\n",
      "Data Read. time: 0.1 s\n",
      "\n",
      "Prepare Data ...\n",
      "\n",
      "Data Prepared. time: 0.1 s\n",
      "\n",
      "Define Model ...\n",
      "\n",
      "Model Defined. time: 10.9 s\n",
      "\n",
      "Solve Model ...\n",
      "\n",
      "\n",
      "Welcome to IBM(R) ILOG(R) CPLEX(R) Interactive Optimizer 12.8.0.0\n",
      "  with Simplex, Mixed Integer & Barrier Optimizers\n",
      "5725-A06 5725-A29 5724-Y48 5724-Y49 5724-Y54 5724-Y55 5655-Y21\n",
      "Copyright IBM Corp. 1988, 2017.  All Rights Reserved.\n",
      "\n",
      "Type 'help' for a list of available commands.\n",
      "Type 'help' followed by a command name for more\n",
      "information on commands.\n",
      "\n",
      "CPLEX> Logfile 'cplex.log' closed.\n",
      "Logfile 'C:\\Users\\eazzi\\AppData\\Local\\Temp\\tmpld4fhfxd.cplex.log' open.\n",
      "CPLEX> New value for default parallel thread count: 2\n",
      "CPLEX> Problem 'C:\\Users\\eazzi\\AppData\\Local\\Temp\\tmprth72fb0.pyomo.lp' read.\n",
      "Read time = 0.03 sec. (2.70 ticks)\n",
      "CPLEX> Problem name         : C:\\Users\\eazzi\\AppData\\Local\\Temp\\tmprth72fb0.pyomo.lp\n",
      "Objective sense      : Minimize\n",
      "Variables            :   12809  [Nneg: 8783,  Free: 2928,  Binary: 1098]\n",
      "Objective nonzeros   :       8\n",
      "Linear constraints   :   29959  [Less: 22625,  Greater: 2195,  Equal: 5139]\n",
      "  Nonzeros           :   72612\n",
      "  RHS nonzeros       :    8767\n",
      "\n",
      "Variables            : Min LB: 0.0000000        Max UB: 1.000000       \n",
      "Objective nonzeros   : Min   : 1.000000         Max   : 1.000000       \n",
      "Linear constraints   :\n",
      "  Nonzeros           : Min   : 0.02250000       Max   : 56320.00       \n",
      "  RHS nonzeros       : Min   : 1.000000         Max   : 142736.3       \n",
      "CPLEX> CPXPARAM_Threads                                 2\n",
      "Tried aggregator 3 times.\n",
      "MIP Presolve eliminated 26307 rows and 9885 columns.\n",
      "MIP Presolve modified 16000 coefficients.\n",
      "Aggregator did 1052 substitutions.\n",
      "Reduced MIP has 2600 rows, 1872 columns, and 6269 nonzeros.\n",
      "Reduced MIP has 703 binaries, 0 generals, 0 SOSs, and 0 indicators.\n",
      "Presolve time = 0.05 sec. (44.17 ticks)\n",
      "Found incumbent of value 6604872.075157 after 0.05 sec. (48.41 ticks)\n",
      "Probing fixed 6 vars, tightened 3 bounds.\n",
      "Probing changed sense of 3 constraints.\n",
      "Probing time = 0.00 sec. (3.43 ticks)\n",
      "Tried aggregator 140 times.\n",
      "MIP Presolve eliminated 1047 rows and 773 columns.\n",
      "MIP Presolve modified 7 coefficients.\n",
      "Aggregator did 385 substitutions.\n",
      "Reduced MIP has 1168 rows, 714 columns, and 3006 nonzeros.\n",
      "Reduced MIP has 564 binaries, 0 generals, 0 SOSs, and 0 indicators.\n",
      "Presolve time = 0.22 sec. (231.57 ticks)\n",
      "Probing time = 0.00 sec. (1.60 ticks)\n",
      "Tried aggregator 1 time.\n",
      "Reduced MIP has 1168 rows, 714 columns, and 3006 nonzeros.\n",
      "Reduced MIP has 564 binaries, 0 generals, 0 SOSs, and 0 indicators.\n",
      "Presolve time = 0.00 sec. (2.12 ticks)\n",
      "Probing time = 0.01 sec. (1.60 ticks)\n",
      "Clique table members: 2267.\n",
      "MIP emphasis: balance optimality and feasibility.\n",
      "MIP search method: dynamic search.\n",
      "Parallel mode: deterministic, using up to 2 threads.\n",
      "Root relaxation solution time = 0.00 sec. (1.06 ticks)\n",
      "\n",
      "        Nodes                                         Cuts/\n",
      "   Node  Left     Objective  IInf  Best Integer    Best Bound    ItCnt     Gap\n",
      "\n",
      "*     0+    0                      5579636.5695 -7375057.1277           232.18%\n",
      "*     0+    0                      4525584.2993 -7375057.1277           262.96%\n",
      "*     0     0      integral     0 -7375057.1277 -7375057.1277        5    0.00%\n",
      "Elapsed time = 0.30 sec. (296.32 ticks, tree = 0.00 MB, solutions = 4)\n",
      "\n",
      "Root node processing (before b&c):\n",
      "  Real time             =    0.30 sec. (297.05 ticks)\n",
      "Parallel b&c, 2 threads:\n",
      "  Real time             =    0.00 sec. (0.00 ticks)\n",
      "  Sync time (average)   =    0.00 sec.\n",
      "  Wait time (average)   =    0.00 sec.\n",
      "                          ------------\n",
      "Total (root+branch&cut) =    0.30 sec. (297.05 ticks)\n",
      "\n",
      "Solution pool: 4 solutions saved.\n",
      "\n",
      "MIP - Integer optimal solution:  Objective = -7.3750571277e+06\n",
      "Solution time =    0.30 sec.  Iterations = 5  Nodes = 0\n",
      "Deterministic time = 297.09 ticks  (1000.31 ticks/sec)\n",
      "\n",
      "CPLEX> Incumbent solution written to file 'C:\\Users\\eazzi\\AppData\\Local\\Temp\\tmpqx_8a_lp.cplex.sol'.\n",
      "CPLEX> Model Solved. time: 2.2 s\n",
      "\n",
      "Load Results ...\n",
      "\n",
      "Results Loaded. time: 0.0 s\n",
      "\n",
      "Total Time: 13.3 s\n",
      "\n",
      "Save Results to Reportfile...\n",
      "\n",
      "Results Saved. time: 0.5 s\n",
      "\n",
      "Biochar produced annually:  biochar_production    5.215882\n",
      "dtype: float64  tons\n",
      "Compile ficus lci and lcia\n",
      "-7.375057127685884 ton CO2-eq, net score, for 1 year of farm-energy\n",
      "Towards bw2...\n",
      "bw2# Add production processes, manufacturing, and start-ups\n",
      "bw2# Add technosphere and biosphere flows to each production process\n",
      "## bw2 Calculate apparent mix for ... pyrBMC50t\n",
      "## bw2 Calculate apparent mix for ... el. heater\n",
      "## bw2 Calculate apparent mix for ... hp\n",
      "Current project is:  cs1_Lindeborgs\n",
      "Read only mode:  False\n"
     ]
    },
    {
     "name": "stderr",
     "output_type": "stream",
     "text": [
      "Writing activities to SQLite3 database:\n",
      "0% [##############################] 100% | ETA: 00:00:00\n",
      "Total time elapsed: 00:00:00\n"
     ]
    },
    {
     "name": "stdout",
     "output_type": "stream",
     "text": [
      "Title: Writing activities to SQLite3 database:\n",
      "  Started: 03/18/2020 17:19:01\n",
      "  Finished: 03/18/2020 17:19:01\n",
      "  Total time elapsed: 00:00:00\n",
      "  CPU %: 94.00\n",
      "  Memory %: 2.11\n",
      "Scenario  BioMaCon50kW_PL5MO7_loop_cc_2000  is now ready for analysis in Activity-Browser\n",
      "2001 >>>  136612.39905806936  kWh/yr\n",
      "Parsing sample_plants\n",
      "Calculating data for ficus input folder\n",
      "Writing ficus input file\n",
      "Read Data ...\n",
      "\n",
      "Data Read. time: 0.1 s\n",
      "\n",
      "Prepare Data ...\n",
      "\n",
      "Data Prepared. time: 0.1 s\n",
      "\n",
      "Define Model ...\n",
      "\n",
      "Model Defined. time: 10.6 s\n",
      "\n",
      "Solve Model ...\n",
      "\n",
      "\n",
      "Welcome to IBM(R) ILOG(R) CPLEX(R) Interactive Optimizer 12.8.0.0\n",
      "  with Simplex, Mixed Integer & Barrier Optimizers\n",
      "5725-A06 5725-A29 5724-Y48 5724-Y49 5724-Y54 5724-Y55 5655-Y21\n",
      "Copyright IBM Corp. 1988, 2017.  All Rights Reserved.\n",
      "\n",
      "Type 'help' for a list of available commands.\n",
      "Type 'help' followed by a command name for more\n",
      "information on commands.\n",
      "\n",
      "CPLEX> Logfile 'cplex.log' closed.\n",
      "Logfile 'C:\\Users\\eazzi\\AppData\\Local\\Temp\\tmphpwwyx0d.cplex.log' open.\n",
      "CPLEX> New value for default parallel thread count: 2\n",
      "CPLEX> Problem 'C:\\Users\\eazzi\\AppData\\Local\\Temp\\tmpfevj34d5.pyomo.lp' read.\n",
      "Read time = 0.01 sec. (2.70 ticks)\n",
      "CPLEX> Problem name         : C:\\Users\\eazzi\\AppData\\Local\\Temp\\tmpfevj34d5.pyomo.lp\n",
      "Objective sense      : Minimize\n",
      "Variables            :   12809  [Nneg: 8783,  Free: 2928,  Binary: 1098]\n",
      "Objective nonzeros   :       8\n",
      "Linear constraints   :   29959  [Less: 22625,  Greater: 2195,  Equal: 5139]\n",
      "  Nonzeros           :   72612\n",
      "  RHS nonzeros       :    8767\n",
      "\n",
      "Variables            : Min LB: 0.0000000        Max UB: 1.000000       \n",
      "Objective nonzeros   : Min   : 1.000000         Max   : 1.000000       \n",
      "Linear constraints   :\n",
      "  Nonzeros           : Min   : 0.02250000       Max   : 56320.00       \n",
      "  RHS nonzeros       : Min   : 1.000000         Max   : 136612.4       \n",
      "CPLEX> CPXPARAM_Threads                                 2\n",
      "Tried aggregator 3 times.\n",
      "MIP Presolve eliminated 26809 rows and 10213 columns.\n",
      "MIP Presolve modified 15945 coefficients.\n",
      "Aggregator did 912 substitutions.\n",
      "Reduced MIP has 2238 rows, 1684 columns, and 5301 nonzeros.\n",
      "Reduced MIP has 635 binaries, 0 generals, 0 SOSs, and 0 indicators.\n",
      "Presolve time = 0.03 sec. (43.22 ticks)\n",
      "Found incumbent of value 6233085.006908 after 0.05 sec. (47.23 ticks)\n",
      "Probing fixed 4 vars, tightened 2 bounds.\n",
      "Probing changed sense of 6 constraints.\n",
      "Probing time = 0.02 sec. (2.36 ticks)\n",
      "Tried aggregator 114 times.\n",
      "MIP Presolve eliminated 892 rows and 714 columns.\n",
      "MIP Presolve modified 4 coefficients.\n",
      "Aggregator did 324 substitutions.\n",
      "Reduced MIP has 1022 rows, 646 columns, and 2529 nonzeros.\n",
      "Reduced MIP has 562 binaries, 0 generals, 0 SOSs, and 0 indicators.\n",
      "Presolve time = 0.17 sec. (178.95 ticks)\n",
      "Probing time = 0.00 sec. (1.00 ticks)\n",
      "Tried aggregator 1 time.\n",
      "Reduced MIP has 1022 rows, 646 columns, and 2529 nonzeros.\n",
      "Reduced MIP has 562 binaries, 0 generals, 0 SOSs, and 0 indicators.\n",
      "Presolve time = 0.00 sec. (1.82 ticks)\n",
      "Probing time = 0.01 sec. (1.00 ticks)\n",
      "Clique table members: 1707.\n",
      "MIP emphasis: balance optimality and feasibility.\n",
      "MIP search method: dynamic search.\n",
      "Parallel mode: deterministic, using up to 2 threads.\n",
      "Root relaxation solution time = 0.00 sec. (0.92 ticks)\n",
      "\n",
      "        Nodes                                         Cuts/\n",
      "   Node  Left     Objective  IInf  Best Integer    Best Bound    ItCnt     Gap\n",
      "\n",
      "*     0+    0                      5552137.0385 -2892294.6002           152.09%\n",
      "*     0+    0                      3656201.8518 -2892294.6002           179.11%\n",
      "*     0     0      integral     0 -2892294.6002 -2892294.6002        3    0.00%\n",
      "Elapsed time = 0.25 sec. (239.26 ticks, tree = 0.00 MB, solutions = 4)\n",
      "\n",
      "Root node processing (before b&c):\n",
      "  Real time             =    0.25 sec. (239.99 ticks)\n",
      "Parallel b&c, 2 threads:\n",
      "  Real time             =    0.00 sec. (0.00 ticks)\n",
      "  Sync time (average)   =    0.00 sec.\n",
      "  Wait time (average)   =    0.00 sec.\n",
      "                          ------------\n",
      "Total (root+branch&cut) =    0.25 sec. (239.99 ticks)\n",
      "\n",
      "Solution pool: 4 solutions saved.\n",
      "\n",
      "MIP - Integer optimal solution:  Objective = -2.8922946002e+06\n",
      "Solution time =    0.25 sec.  Iterations = 3  Nodes = 0\n",
      "Deterministic time = 240.03 ticks  (960.11 ticks/sec)\n",
      "\n",
      "CPLEX> Incumbent solution written to file 'C:\\Users\\eazzi\\AppData\\Local\\Temp\\tmpte1v60dw.cplex.sol'.\n",
      "CPLEX> Model Solved. time: 1.8 s\n",
      "\n",
      "Load Results ...\n",
      "\n",
      "Results Loaded. time: 0.0 s\n",
      "\n",
      "Total Time: 12.6 s\n",
      "\n",
      "Save Results to Reportfile...\n",
      "\n",
      "Results Saved. time: 0.5 s\n",
      "\n",
      "Biochar produced annually:  biochar_production    2.924438\n",
      "dtype: float64  tons\n",
      "Compile ficus lci and lcia\n",
      "-2.8922946002374346 ton CO2-eq, net score, for 1 year of farm-energy\n",
      "Towards bw2...\n",
      "bw2# Add production processes, manufacturing, and start-ups\n",
      "bw2# Add technosphere and biosphere flows to each production process\n",
      "## bw2 Calculate apparent mix for ... pyrBMC50t\n",
      "## bw2 Calculate apparent mix for ... el. heater\n",
      "## bw2 Calculate apparent mix for ... hp\n",
      "Current project is:  cs1_Lindeborgs\n",
      "Read only mode:  False\n"
     ]
    },
    {
     "name": "stderr",
     "output_type": "stream",
     "text": [
      "Writing activities to SQLite3 database:\n",
      "0% [##############################] 100% | ETA: 00:00:00\n",
      "Total time elapsed: 00:00:00\n"
     ]
    },
    {
     "name": "stdout",
     "output_type": "stream",
     "text": [
      "Title: Writing activities to SQLite3 database:\n",
      "  Started: 03/18/2020 17:19:55\n",
      "  Finished: 03/18/2020 17:19:55\n",
      "  Total time elapsed: 00:00:00\n",
      "  CPU %: 84.20\n",
      "  Memory %: 2.24\n",
      "Scenario  BioMaCon50kW_PL5MO7_loop_cc_2001  is now ready for analysis in Activity-Browser\n"
     ]
    }
   ],
   "source": [
    "years = ['2000','2001',]\n",
    "         #'2002','2003','2004','2005','2006','2007','2008','2009', '2010','2011','2012',\n",
    "         #'2013','2014','2015','2016','2017','2018']\n",
    "plantsAvailable = ['pyrBMC50t', 'el. heater', 'hp'] # select among list in plants_file\n",
    "\n",
    "for year in years:\n",
    "    calendar=False\n",
    "    monthday = ['-01-01','-12-31'] if calendar else ['-08-01','-07-31']\n",
    "    year_txt = [year, year] if calendar else [year, str(int(year)+1)]\n",
    "    tmp = fs.selectInterval(farm_demand.resample('D').mean(), year_txt[0]+monthday[0], year_txt[1]+monthday[1])\n",
    "    print(year, '>>> ', tmp.sum().sum()*p2e, ' kWh/yr')\n",
    "    scenario = 'BioMaCon50kW_PL5MO7_loop_cc_'+year\n",
    "\n",
    "    # plants parsed and ficus file written\n",
    "    farm_supply = fs.run_scn_ficus_writer(plants_folder, plants_file,\n",
    "                                          tb, tb_start, tb_end, \n",
    "                                          calendar,\n",
    "                                          commodities_imp, commodities_exp, import_max, export_max, \n",
    "                                          el_folder, el_file, el_tab, \n",
    "                                          ef_pellets, biochar_seq, \n",
    "                                          plantsAvailable, farm_demand, year, elec_yr,\n",
    "                                          afp, ficus_files, scenario)\n",
    "    # run ficus milp\n",
    "    prob = ff.run_ficus(afp+ficus_files+scenario+'.xlsx', opt = 'cplex', MipGap = 0)\n",
    "\n",
    "    # saving ficus report and figures\n",
    "    result_dir = ff.prepare_result_directory(afp+ex+'/output_files', scenario)\n",
    "    ff.report(prob, result_dir)\n",
    "    ff.result_figures(result_dir,prob=prob, show=False)\n",
    "    # printing final report and bw2-LCA\n",
    "    \n",
    "    lci_t, lcia_t = fb.run_scn_bw2(result_dir, 'result-'+scenario+'.xlsx',\n",
    "                                    year, calendar, p2e, plantsAvailable,\n",
    "                                    afp, ficus_files, scenario,\n",
    "                                    proj, fg_db, fresh_db=False,\n",
    "                                    plantEmissions=True, plantManufacturing=True, show_plot = False)"
   ]
  },
  {
   "cell_type": "markdown",
   "metadata": {},
   "source": [
    "## Simulation B) Comparing technologies, for a given year\n",
    "Simulation B in manuscript: model run for single year, but with 6 different technologies, for compartive life cycle assessment"
   ]
  },
  {
   "cell_type": "code",
   "execution_count": 6,
   "metadata": {},
   "outputs": [
    {
     "name": "stdout",
     "output_type": "stream",
     "text": [
      "Parsing SMHI weather data: smhi-opendata_1_86420_20190321_121405.csv\n",
      "Parsing SMHI weather data: smhi-opendata_1_86420_20190321_121419.csv\n",
      "Total heat demand is  178380.0  kWh of which 6.717961654894046 % hot water\n",
      "Reference year:  ['1996', '2010']\n",
      "Building heating signature:  -1.6587481186847277  kW/K\n",
      "Average yearly degreedays:  -100314.50714285717  degree-hour/year\n",
      "Returning farm_demand DataFrame\n"
     ]
    }
   ],
   "source": [
    "farm_demand = fd.run_scn_demand(smhi_folder, smhi_files,\n",
    "                                areas=a, energiprestande=e, water_share=w, cop_corr=c,\n",
    "                                ref_year=ref_year, T_max=T_max, cc=False, cc_scen=False)"
   ]
  },
  {
   "cell_type": "code",
   "execution_count": 7,
   "metadata": {},
   "outputs": [],
   "source": [
    "# name scenarios\n",
    "scen_list = ['B1_Pyr-HP-el_', # base case pyr\n",
    "             'B2_Pyr-el_',\n",
    "             'B3_Pyr30-HP-el_',\n",
    "             'B4_Comb-HP-el_',\n",
    "             'B5_GSHP30_el_',\n",
    "             'B6_el_']\n",
    "\n",
    "# what differs between scenarios\n",
    "ofInterest_list = [\n",
    "    ['pyrBMC50t', 'hp', 'el. heater'],\n",
    "    ['pyrBMC50t', 'el. heater'],\n",
    "    ['pyrBMC30t', 'hp', 'el. heater'],\n",
    "    ['comb', 'hp','el. heater'],\n",
    "    ['gshp30', 'el. heater'], \n",
    "    ['el. heater'],\n",
    "]\n",
    "\n",
    "year = '2017'\n",
    "calendar=False"
   ]
  },
  {
   "cell_type": "code",
   "execution_count": 9,
   "metadata": {
    "scrolled": true
   },
   "outputs": [
    {
     "name": "stdout",
     "output_type": "stream",
     "text": [
      "Writing the ficus files for all scenarios...\n",
      "B4_Comb-HP-el_ ['comb', 'hp', 'el. heater'] 2017\n",
      "Parsing sample_plants\n",
      "Calculating data for ficus input folder\n",
      "Writing ficus input file\n",
      "B5_GSHP30_el_ ['gshp30', 'el. heater'] 2017\n",
      "Parsing sample_plants\n",
      "Calculating data for ficus input folder\n",
      "Writing ficus input file\n",
      "B6_el_ ['el. heater'] 2017\n",
      "Parsing sample_plants\n",
      "Calculating data for ficus input folder\n",
      "Writing ficus input file\n",
      "Time to adjust the ficus files... (no biochar cases)\n"
     ]
    }
   ],
   "source": [
    "print(\"Writing the ficus files for all scenarios...\")\n",
    "for i in range(3, len(scen_list)):    \n",
    "    print(scen_list[i], ofInterest_list[i], year)\n",
    "    scenario = 'cpLCA_50kW_PL5MO7_'+scen_list[i]+year\n",
    "    plantsAvailable=ofInterest_list[i]\n",
    "    # plants parsed and ficus file written\n",
    "    if 'pyr' not in plantsAvailable[0]:\n",
    "        commodities_imp = ['elec', 'pellets'] # importable commodities\n",
    "        commodities_exp = ['elec',] # exportable commodities\n",
    "        commodities = commodities_imp + list(set(commodities_exp) - set(commodities_imp)) # all commodities, unique list\n",
    "        import_max = ['inf', 'inf'] # in order as commodities\n",
    "        export_max = ['inf', 0] \n",
    "    else:\n",
    "        commodities_imp = ['elec', 'pellets'] # importable commodities\n",
    "        commodities_exp = ['elec', 'biochar'] # exportable commodities\n",
    "        commodities = commodities_imp + list(set(commodities_exp) - set(commodities_imp)) # all commodities, unique list\n",
    "        import_max = ['inf', 'inf', 0] # in order as commodities\n",
    "        export_max = ['inf', 0, 'inf'] \n",
    "        \n",
    "    farm_supply = fs.run_scn_ficus_writer(plants_folder, plants_file,\n",
    "                                          tb, tb_start, tb_end, \n",
    "                                          calendar,\n",
    "                                          commodities_imp, commodities_exp, import_max, export_max, \n",
    "                                          el_folder, el_file, el_tab, \n",
    "                                          ef_pellets, biochar_seq, \n",
    "                                          plantsAvailable, farm_demand, year, elec_yr,\n",
    "                                          afp, ficus_files, scenario)"
   ]
  },
  {
   "cell_type": "code",
   "execution_count": 10,
   "metadata": {
    "scrolled": true
   },
   "outputs": [
    {
     "name": "stdout",
     "output_type": "stream",
     "text": [
      "Running the optimisation and analysis...\n",
      "B6_el_ ['el. heater'] 2017\n",
      "Read Data ...\n",
      "\n",
      "Data Read. time: 0.1 s\n",
      "\n",
      "Prepare Data ...\n",
      "\n",
      "Data Prepared. time: 0.0 s\n",
      "\n",
      "Define Model ...\n",
      "\n",
      "Model Defined. time: 1.4 s\n",
      "\n",
      "Solve Model ...\n",
      "\n",
      "\n",
      "Welcome to IBM(R) ILOG(R) CPLEX(R) Interactive Optimizer 12.8.0.0\n",
      "  with Simplex, Mixed Integer & Barrier Optimizers\n",
      "5725-A06 5725-A29 5724-Y48 5724-Y49 5724-Y54 5724-Y55 5655-Y21\n",
      "Copyright IBM Corp. 1988, 2017.  All Rights Reserved.\n",
      "\n",
      "Type 'help' for a list of available commands.\n",
      "Type 'help' followed by a command name for more\n",
      "information on commands.\n",
      "\n",
      "CPLEX> Logfile 'cplex.log' closed.\n",
      "Logfile 'C:\\Users\\eazzi\\AppData\\Local\\Temp\\tmpucjyolzx.cplex.log' open.\n",
      "CPLEX> New value for default parallel thread count: 2\n",
      "CPLEX> Problem 'C:\\Users\\eazzi\\AppData\\Local\\Temp\\tmpz5pwplr_.pyomo.lp' read.\n",
      "Read time = 0.02 sec. (0.37 ticks)\n",
      "CPLEX> Problem name         : C:\\Users\\eazzi\\AppData\\Local\\Temp\\tmpz5pwplr_.pyomo.lp\n",
      "Objective sense      : Minimize\n",
      "Variables            :    2943  [Nneg: 2935,  Free: 8]\n",
      "Objective nonzeros   :       8\n",
      "Linear constraints   :    4404  [Less: 1096,  Greater: 733,  Equal: 2575]\n",
      "  Nonzeros           :   10609\n",
      "  RHS nonzeros       :     368\n",
      "\n",
      "Variables            : Min LB: 0.0000000        Max UB: all infinite   \n",
      "Objective nonzeros   : Min   : 1.000000         Max   : 1.000000       \n",
      "Linear constraints   :\n",
      "  Nonzeros           : Min   : 1.000000         Max   : 2199.012       \n",
      "  RHS nonzeros       : Min   : 1.000000         Max   : 160899.8       \n",
      "CPLEX> CPXPARAM_Threads                                 2\n",
      "Parallel mode: deterministic, using up to 2 threads for concurrent optimization.\n",
      "Tried aggregator 1 time.\n",
      "LP Presolve eliminated 4404 rows and 2943 columns.\n",
      "All rows and columns eliminated.\n",
      "Presolve time = 0.00 sec. (1.67 ticks)\n",
      "\n",
      "Dual simplex - Optimal:  Objective =  7.4688436362e+06\n",
      "Solution time =    0.00 sec.  Iterations = 0 (0)\n",
      "Deterministic time = 3.20 ticks  (3196.40 ticks/sec)\n",
      "\n",
      "CPLEX> Solution written to file 'C:\\Users\\eazzi\\AppData\\Local\\Temp\\tmpg16yv30g.cplex.sol'.\n",
      "CPLEX> Model Solved. time: 0.4 s\n",
      "\n",
      "Load Results ...\n",
      "\n",
      "Results Loaded. time: 0.0 s\n",
      "\n",
      "Total Time: 1.9 s\n",
      "\n",
      "Save Results to Reportfile...\n",
      "\n",
      "Results Saved. time: 0.3 s\n",
      "\n"
     ]
    },
    {
     "name": "stderr",
     "output_type": "stream",
     "text": [
      "C:\\Users\\eazzi\\Box Sync\\KTH_PhD_HeavyData\\P2_farm_biochar\\ex1_Lindeborg\\..\\farm_biochar_model\\farm_ficus.py:2202: FutureWarning: Method .as_matrix will be removed in a future version. Use .values instead.\n",
      "  sp_crtd = ax0.stackplot(step_edit_x(created.index), step_edit_y(created.as_matrix().T), linewidth=0.15)\n",
      "C:\\Users\\eazzi\\Box Sync\\KTH_PhD_HeavyData\\P2_farm_biochar\\ex1_Lindeborg\\..\\farm_biochar_model\\farm_ficus.py:2212: FutureWarning: Method .as_matrix will be removed in a future version. Use .values instead.\n",
      "  sp_csmd = ax0.stackplot(step_edit_x(consumed.index), step_edit_y(-consumed.as_matrix().T), linewidth=0.15)\n",
      "No handles with labels found to put in legend.\n"
     ]
    },
    {
     "name": "stdout",
     "output_type": "stream",
     "text": [
      "Compile ficus lci and lcia\n",
      "7.468843636185822 ton CO2-eq, net score, for 1 year of farm-energy\n",
      "Towards bw2...\n",
      "bw2# Add production processes, manufacturing, and start-ups\n",
      "bw2# Add technosphere and biosphere flows to each production process\n",
      "## bw2 Calculate apparent mix for ... el. heater\n",
      "Current project is:  cs1_Lindeborgs\n",
      "Read only mode:  False\n"
     ]
    },
    {
     "name": "stderr",
     "output_type": "stream",
     "text": [
      "Writing activities to SQLite3 database:\n",
      "0% [##############################] 100% | ETA: 00:00:00\n",
      "Total time elapsed: 00:00:00\n"
     ]
    },
    {
     "name": "stdout",
     "output_type": "stream",
     "text": [
      "Title: Writing activities to SQLite3 database:\n",
      "  Started: 03/18/2020 17:55:01\n",
      "  Finished: 03/18/2020 17:55:02\n",
      "  Total time elapsed: 00:00:00\n",
      "  CPU %: 74.00\n",
      "  Memory %: 1.90\n",
      "Scenario  cpLCA_50kW_PL5MO7_B6_el_2017  is now ready for analysis in Activity-Browser\n"
     ]
    }
   ],
   "source": [
    "print(\"Running the optimisation and analysis...\")\n",
    "for i in range(5,len(scen_list)):\n",
    "    print(scen_list[i], ofInterest_list[i], year)\n",
    "    # run ficus milp\n",
    "    scenario = 'cpLCA_50kW_PL5MO7_'+scen_list[i]+year\n",
    "    plantsAvailable=ofInterest_list[i]\n",
    "    \n",
    "    # run ficus milp\n",
    "    prob = ff.run_ficus(afp+ficus_files+scenario+'.xlsx', opt = 'cplex', MipGap = 0)\n",
    "\n",
    "    # saving ficus report and figures\n",
    "    result_dir = ff.prepare_result_directory(afp+ex+'/output_files', scenario)\n",
    "    ff.report(prob, result_dir)\n",
    "    ff.result_figures(result_dir,prob=prob, show=False)\n",
    "    \n",
    "    # printing final report and bw2-LCA\n",
    "    lci_t, lcia_t = fb.run_scn_bw2(result_dir, 'result-'+scenario+'.xlsx',\n",
    "                                    year, calendar, p2e, plantsAvailable,\n",
    "                                    afp, ficus_files, scenario,\n",
    "                                    proj, fg_db, fresh_db=False,\n",
    "                                    plantEmissions=True, plantManufacturing=True, show_plot = False)"
   ]
  },
  {
   "cell_type": "markdown",
   "metadata": {},
   "source": [
    "## Simulation C) Heat demand expansions on the farm"
   ]
  },
  {
   "cell_type": "markdown",
   "metadata": {},
   "source": [
    "### Functions"
   ]
  },
  {
   "cell_type": "code",
   "execution_count": 21,
   "metadata": {
    "hide_input": false
   },
   "outputs": [],
   "source": [
    "def greenhouse(dims=[7, 1.8*3, 1.8*1.5, 1.8*3],\n",
    "              U_window=1.1, n=1, T_in=8,\n",
    "              year=['2000-01-01', '2018-07-31'],\n",
    "              smhi_loaded=False):\n",
    "    # Heat demand for a greenhouse\n",
    "    length = dims[0] # 7 # m\n",
    "    wide = dims[1] #1.8*3 # m\n",
    "    floor_area = length*wide # m2\n",
    "    print(floor_area, \" m2 of greenhouse\")\n",
    "    height_sraight = dims[2] # m\n",
    "    height_tip = dims[3] #m\n",
    "    #shape = triangle\n",
    "    roof_side = np.sqrt(wide*wide/4+(height_tip-height_sraight)*(height_tip-height_sraight))\n",
    "\n",
    "    # without floor, one side collacted to existing building\n",
    "    window_area = (1*height_sraight*wide+1*0.5*(height_tip-height_sraight)*wide #side non collated to building\n",
    "                  )+(2*height_sraight*length #straigh side\n",
    "                    )+(2*roof_side*length) # roof\n",
    "    print(window_area, \" m2 of windows greenhouse\")\n",
    "    concrete_area = (1*height_sraight*wide+1*0.5*(height_tip-height_sraight)*wide) #side collated to building\n",
    "\n",
    "    volume_ghg=floor_area*height_sraight+0.5*(height_tip-height_sraight)*wide*length #m3\n",
    "    print(volume_ghg, \" m3 of greenhouse\")\n",
    "    #U_window = 1.1 # W/m2/K\n",
    "    \n",
    "    Q_tr=(window_area+concrete_area)*U_window # W/K Losses by transmission through walls\n",
    "    Q_floor = Q_tr/floor_area # W/K / m2 floor\n",
    "\n",
    "    n = n # Number of times per hour that greenhouse volume is replaced # n = 1 if equipped with ventilation, 0 otherwise\n",
    "    rcp = 0.32 # W/m3/K air properties\n",
    "    Q_air = n*volume_ghg/rcp # W/K Losses by air flow in greenhouse\n",
    "    Q_air\n",
    "    \n",
    "    if not smhi_loaded:\n",
    "        # SMHI Weather data\n",
    "        smhi_folder = afp+ex+'/input_files/'\n",
    "        smhi_files=['smhi-opendata_1_86420_20190321_121405.csv', 'smhi-opendata_1_86420_20190321_121419.csv']\n",
    "\n",
    "        s = fd.clientSMHI()\n",
    "        smhi = s.parseSMHI(smhi_folder, smhi_files)\n",
    "    else:\n",
    "        smhi = smhi_loaded\n",
    "\n",
    "    T_in = T_in # minimum temperature targetted in winter; if above, no heating\n",
    "    T_out = fs.selectInterval(smhi, start=year[0], end=year[1])['Lufttemperatur'] # year 2018, hourly\n",
    "\n",
    "    \n",
    "    heat_power = (Q_tr+Q_air)*(T_in-T_out) #W\n",
    "    heat_power[heat_power<0]=0 # filter negative values = 0 heating\n",
    "    print(heat_power.sum()/1000/1000/(int(year[1][:4])-int(year[0][:4])+1), ' MWh/year') # MWh sum\n",
    "    heat_power = pd.DataFrame(heat_power)/1000 #kW \n",
    "    heat_power.rename(columns={'Lufttemperatur':'greenhouse_kW'}, inplace=True)\n",
    "    return heat_power\n",
    "\n",
    "def dryer(week_interval=[34, 36],\n",
    "          year=['2000-01-01', '2018-07-31'],\n",
    "         capacity=30,\n",
    "         smhi_loaded=False):\n",
    "    \n",
    "    if not smhi_loaded:\n",
    "        # SMHI Weather data\n",
    "        smhi_folder = afp+ex+'/input_files/'\n",
    "        smhi_files=['smhi-opendata_1_86420_20190321_121405.csv', 'smhi-opendata_1_86420_20190321_121419.csv']\n",
    "\n",
    "        s = fd.clientSMHI()\n",
    "        smhi = s.parseSMHI(smhi_folder, smhi_files)\n",
    "    else:\n",
    "        smhi = smhi_loaded\n",
    "\n",
    "    T_out = fs.selectInterval(smhi, start=year[0], end=year[1])['Lufttemperatur'] # year 2018, hourly    \n",
    "    drying = (T_out*0)\n",
    "                          \n",
    "    drying[(drying.index.week >= week_interval[0]) & (drying.index.week <= week_interval[1]) \n",
    "           & (drying.index.year >= int(year[0][:4])) & (drying.index.year <= int(year[1][:4]))] = capacity\n",
    "    print(drying.sum()/1000/(int(year[1][:4])-int(year[0][:4])+1), ' MWh/year')\n",
    "    drying = pd.DataFrame(drying) #kW \n",
    "    drying.rename(columns={'Lufttemperatur':'dryer_kW'}, inplace=True)\n",
    "    return drying\n",
    "\n",
    "\n",
    "def ops(farm_demand, year, calendar=False, C=50, PL=0.4, MINOPS=7):\n",
    "    ''' Calculate biochar production potential and plant operation time, based on given demand vector, plant properties and constraints\n",
    "    - year: single year or period, given as string\n",
    "    '''\n",
    "    # handle year, single or period\n",
    "    if isinstance(year, str):\n",
    "        # ref_year is a string, we use a single year as reference\n",
    "        start_yr = year\n",
    "        end_yr  = year if calendar else str(int(year)+1)\n",
    "        nb_yr = 1\n",
    "    else:\n",
    "        # a list should have been passed, with two arguments\n",
    "        start_yr = year[0]\n",
    "        end_yr  = year[1] if calendar else str(int(year[1])+1)\n",
    "        nb_yr = int(year[1])-int(year[0])    \n",
    "        \n",
    "    # handle calendar starting january or august \n",
    "    monthday = ['-01-01','-12-31'] if calendar else ['-08-01','-07-31']\n",
    "    \n",
    "    # select year & reseample to daily average kW (daily buffer capacity)\n",
    "    tmp = fs.selectInterval(farm_demand.resample('D').mean(), start_yr+monthday[0], end_yr+monthday[1])\n",
    "    \n",
    "    # sum across heat demands (heating, water, greenhouse...)\n",
    "    uu = pd.DataFrame()\n",
    "    uu['Heating'] = tmp.sum(axis=1) \n",
    "    bc = pd.DataFrame()\n",
    "    bc['PyroOn'] = uu['Heating']*0 # a zero df, with same index as uu\n",
    "    \n",
    "    # Find operating times, matching constraints\n",
    "    values = ''.join((\"1\" if  x > PL*C else \"0\" for x in uu['Heating']))\n",
    "    pattern = re.compile('1{%d,}'%int(MINOPS))   # MIN-OPS-TIME\n",
    "    on = 0 # number of days running\n",
    "    for match in pattern.finditer(values):\n",
    "        dur = list(match.span())\n",
    "        on= on+dur[1]-dur[0]+1\n",
    "        bc.iloc[dur[0]:dur[1]]= uu.iloc[dur[0]:dur[1]]\n",
    "    op_n = on/len(values) # % of time running\n",
    "    \n",
    "    # calculate bc production\n",
    "    p2e = 24 #h/day\n",
    "    R_pl = (0.1012+0.0736271602413335)/2\n",
    "    R_fl = 0.0736271602413335\n",
    "    bc['biochar_kg_partload'] = bc[bc['PyroOn'] < C]*p2e*R_pl\n",
    "    bc['biochar_kg_fullload'] = bc[bc['PyroOn'] > C]['PyroOn']/bc['PyroOn']*C*p2e*R_fl\n",
    "    bc.fillna(0, inplace=True)\n",
    "    bc['biochar_kg'] = bc['biochar_kg_partload']+bc['biochar_kg_fullload']\n",
    "    bc.fillna(0, inplace=True)\n",
    "    off = len(values)-on\n",
    "    \n",
    "    #fraction of heating supplied by pyro\n",
    "    pyr_pl = np.sum(bc[bc['PyroOn'] < C]['PyroOn'])\n",
    "    pyr_fl = len(bc[bc['PyroOn'] > C]['PyroOn'])*C\n",
    "    pyr = (pyr_pl+pyr_fl)/tmp.sum(axis=1).sum()\n",
    "    \n",
    "    return on, off, op_n, pyr, bc\n",
    "\n",
    "def biochar_expansion(combined_demand, C=50, PL=0.5, MINOPS=7,\n",
    "                      year=['2016','2017'],\n",
    "                      calendar=False):\n",
    "    # Do a variator, based on adding buildings, demands, summing partially the columns of farm_demand\n",
    "\n",
    "    # handle year, single or period\n",
    "    if isinstance(year, str):\n",
    "        # ref_year is a string, we use a single year as reference\n",
    "        start_yr = year\n",
    "        end_yr  = year if calendar else str(int(year)+1)\n",
    "        nb_yr = 1\n",
    "    else:\n",
    "        # a list should have been passed, with two arguments\n",
    "        start_yr = year[0]\n",
    "        end_yr  = year[1] if calendar else str(int(year[1])+1)\n",
    "        nb_yr = int(year[1])-int(year[0])    \n",
    "\n",
    "    # handle calendar starting january or august \n",
    "    monthday = ['-01-01','-12-31'] if calendar else ['-08-01','-07-31']\n",
    "\n",
    "    # initialise lists\n",
    "    H_C_ex = list() # heat demand total\n",
    "    BC_C_ex = list() # biochar production\n",
    "    ON_C_ex = list() # pyrolysis uptime\n",
    "    PC_C_ex = list() # pyro coverage\n",
    "\n",
    "    for v in range(2,len(combined.columns)+1):\n",
    "        var_demand = pd.DataFrame(combined_demand.iloc[:,0:v].sum(axis=1))\n",
    "        tmp = fs.selectInterval(var_demand.resample('D').mean(), start_yr+monthday[0], end_yr+monthday[1])\n",
    "        # annual heat average heat demand\n",
    "        H_C_ex.append(tmp.sum(axis=1).sum()*p2e/len(tmp)*365/1000) \n",
    "        # optimal capacity for that demand level\n",
    "        on, off, op_n, pyr, bc = ops(var_demand, year=year, calendar=calendar, C=C, PL=PL, MINOPS=MINOPS)\n",
    "        ON_C_ex.append(op_n)\n",
    "        BC_C_ex.append(bc['biochar_kg'].sum()/1000/len(tmp)*365)\n",
    "        PC_C_ex.append(pyr)\n",
    "        \n",
    "    return H_C_ex, ON_C_ex, BC_C_ex, PC_C_ex"
   ]
  },
  {
   "cell_type": "markdown",
   "metadata": {},
   "source": [
    "### Define expansions and vizualize them"
   ]
  },
  {
   "cell_type": "code",
   "execution_count": 16,
   "metadata": {
    "scrolled": false
   },
   "outputs": [
    {
     "name": "stdout",
     "output_type": "stream",
     "text": [
      "37.800000000000004  m2 of greenhouse\n",
      "113.127272657703  m2 of windows greenhouse\n",
      "153.09000000000003  m3 of greenhouse\n",
      "Parsing SMHI weather data: smhi-opendata_1_86420_20190321_121405.csv\n",
      "Parsing SMHI weather data: smhi-opendata_1_86420_20190321_121419.csv\n",
      "21.53375379241215  MWh/year\n",
      "Parsing SMHI weather data: smhi-opendata_1_86420_20190321_121405.csv\n",
      "Parsing SMHI weather data: smhi-opendata_1_86420_20190321_121419.csv\n",
      "25.349473684210526  MWh/year\n"
     ]
    }
   ],
   "source": [
    "ghg = greenhouse(dims=[7, 1.8*3, 1.8*1.5, 1.8*3],\n",
    "              U_window=1.1, n=1, T_in=8,\n",
    "              year=['2000-01-01', '2018-07-31'],\n",
    "              smhi_loaded=False)\n",
    "\n",
    "dr = dryer(week_interval=[33, 36],\n",
    "          year=['2000-01-01', '2018-07-31'],\n",
    "         capacity=40,\n",
    "         smhi_loaded=False)\n",
    "\n",
    "# Combine heat demands, to a farm demand \n",
    "combined = pd.DataFrame()\n",
    "combined['Heating_kW'] = farm_demand['Heating_kW']\n",
    "combined['Water_kW'] = farm_demand['Water_kW']\n",
    "combined['Greenhouse_kW'] = ghg['greenhouse_kW']\n",
    "combined['Dryer_kW'] = dr['dryer_kW']\n"
   ]
  },
  {
   "cell_type": "code",
   "execution_count": 17,
   "metadata": {},
   "outputs": [
    {
     "data": {
      "text/html": [
       "<div>\n",
       "<style scoped>\n",
       "    .dataframe tbody tr th:only-of-type {\n",
       "        vertical-align: middle;\n",
       "    }\n",
       "\n",
       "    .dataframe tbody tr th {\n",
       "        vertical-align: top;\n",
       "    }\n",
       "\n",
       "    .dataframe thead th {\n",
       "        text-align: right;\n",
       "    }\n",
       "</style>\n",
       "<table border=\"1\" class=\"dataframe\">\n",
       "  <thead>\n",
       "    <tr style=\"text-align: right;\">\n",
       "      <th></th>\n",
       "      <th>Heating_kW</th>\n",
       "      <th>Water_kW</th>\n",
       "      <th>Greenhouse_kW</th>\n",
       "      <th>Dryer_kW</th>\n",
       "    </tr>\n",
       "    <tr>\n",
       "      <th>Datetime</th>\n",
       "      <th></th>\n",
       "      <th></th>\n",
       "      <th></th>\n",
       "      <th></th>\n",
       "    </tr>\n",
       "  </thead>\n",
       "  <tbody>\n",
       "    <tr>\n",
       "      <th>2019-03-21 07:00:00</th>\n",
       "      <td>17.914480</td>\n",
       "      <td>1.367043</td>\n",
       "      <td>NaN</td>\n",
       "      <td>NaN</td>\n",
       "    </tr>\n",
       "    <tr>\n",
       "      <th>2019-03-21 08:00:00</th>\n",
       "      <td>15.592232</td>\n",
       "      <td>1.367043</td>\n",
       "      <td>NaN</td>\n",
       "      <td>NaN</td>\n",
       "    </tr>\n",
       "    <tr>\n",
       "      <th>2019-03-21 09:00:00</th>\n",
       "      <td>11.777112</td>\n",
       "      <td>1.367043</td>\n",
       "      <td>NaN</td>\n",
       "      <td>NaN</td>\n",
       "    </tr>\n",
       "    <tr>\n",
       "      <th>2019-03-21 10:00:00</th>\n",
       "      <td>11.113612</td>\n",
       "      <td>1.367043</td>\n",
       "      <td>NaN</td>\n",
       "      <td>NaN</td>\n",
       "    </tr>\n",
       "    <tr>\n",
       "      <th>2019-03-21 11:00:00</th>\n",
       "      <td>11.279487</td>\n",
       "      <td>1.367043</td>\n",
       "      <td>NaN</td>\n",
       "      <td>NaN</td>\n",
       "    </tr>\n",
       "  </tbody>\n",
       "</table>\n",
       "</div>"
      ],
      "text/plain": [
       "                     Heating_kW  Water_kW  Greenhouse_kW  Dryer_kW\n",
       "Datetime                                                          \n",
       "2019-03-21 07:00:00   17.914480  1.367043            NaN       NaN\n",
       "2019-03-21 08:00:00   15.592232  1.367043            NaN       NaN\n",
       "2019-03-21 09:00:00   11.777112  1.367043            NaN       NaN\n",
       "2019-03-21 10:00:00   11.113612  1.367043            NaN       NaN\n",
       "2019-03-21 11:00:00   11.279487  1.367043            NaN       NaN"
      ]
     },
     "execution_count": 17,
     "metadata": {},
     "output_type": "execute_result"
    }
   ],
   "source": [
    "combined.tail()"
   ]
  },
  {
   "cell_type": "code",
   "execution_count": 18,
   "metadata": {
    "scrolled": false
   },
   "outputs": [
    {
     "data": {
      "text/plain": [
       "<matplotlib.axes._subplots.AxesSubplot at 0x2348f18e940>"
      ]
     },
     "execution_count": 18,
     "metadata": {},
     "output_type": "execute_result"
    },
    {
     "data": {
      "image/png": "[encoded data removed]",
      "text/plain": [
       "<Figure size 864x576 with 1 Axes>"
      ]
     },
     "metadata": {
      "needs_background": "light"
     },
     "output_type": "display_data"
    }
   ],
   "source": [
    "year_period=[2016,2017]\n",
    "combined.loc['2017-07-31':'2018-08-01'].resample('D').mean().plot.bar(stacked=True,\n",
    "                                                                        width=1.0, figsize=(12,8))"
   ]
  },
  {
   "cell_type": "code",
   "execution_count": 19,
   "metadata": {},
   "outputs": [
    {
     "data": {
      "text/plain": [
       "<matplotlib.axes._subplots.AxesSubplot at 0x23491ed6320>"
      ]
     },
     "execution_count": 19,
     "metadata": {},
     "output_type": "execute_result"
    },
    {
     "data": {
      "image/png": "[encoded data removed]",
      "text/plain": [
       "<Figure size 864x576 with 1 Axes>"
      ]
     },
     "metadata": {
      "needs_background": "light"
     },
     "output_type": "display_data"
    }
   ],
   "source": [
    "combined.loc['2017-07-31':'2018-08-01'].resample('D').mean().resample('W').mean().plot.bar(stacked=True,width=1.0,\n",
    "                                                                                         figsize=(12,8))"
   ]
  },
  {
   "cell_type": "markdown",
   "metadata": {},
   "source": [
    "### Run & plot"
   ]
  },
  {
   "cell_type": "code",
   "execution_count": 22,
   "metadata": {},
   "outputs": [],
   "source": [
    "H_C_ex, ON_C_ex, BC_C_ex, PC_C_ex = biochar_expansion(combined, \n",
    "                                                      C=50, PL=0.5, MINOPS=7,\n",
    "                                                      year=['2016','2017'],\n",
    "                                                      calendar=False)"
   ]
  },
  {
   "cell_type": "code",
   "execution_count": 23,
   "metadata": {},
   "outputs": [
    {
     "data": {
      "text/plain": [
       "([160.15527833792137, 181.72601711373963, 208.60601711373963],\n",
       " [0.29863013698630136, 0.3643835616438356, 0.4438356164383562],\n",
       " [7.025391081364159, 9.73045285640494, 12.380107515927097],\n",
       " [0.5035953158622523, 0.6198337644035412, 0.687538992818422])"
      ]
     },
     "execution_count": 23,
     "metadata": {},
     "output_type": "execute_result"
    }
   ],
   "source": [
    "H_C_ex, ON_C_ex, BC_C_ex, PC_C_ex "
   ]
  },
  {
   "cell_type": "code",
   "execution_count": 24,
   "metadata": {
    "hide_input": false,
    "scrolled": false
   },
   "outputs": [
    {
     "data": {
      "image/png": "[encoded data removed]",
      "text/plain": [
       "<Figure size 1008x432 with 2 Axes>"
      ]
     },
     "metadata": {
      "needs_background": "light"
     },
     "output_type": "display_data"
    }
   ],
   "source": [
    "max_bc = 8760*1*50/1000*0.073627160241333\n",
    "max_ht = 8760*1*50/1000\n",
    "\n",
    "fig, ax = plt.subplots(1, 2, figsize=(14,6))\n",
    "pos=['a)','b)']\n",
    "\n",
    "ax[0].scatter(H_C_ex, np.array(BC_C_ex), marker='o', color='royalblue', s=70) # biochar\n",
    "ax[0].hlines(y=max_bc*0.8, xmin=max_ht*0.8, xmax=max_ht, colors='green')\n",
    "\n",
    "x0 = np.array([0,max_ht*0.8])\n",
    "ax[0].plot(x0, [0,max_bc*0.8], '-', c='green')\n",
    "\n",
    "major_ticks = np.arange(0, max_ht+50, 50)\n",
    "ax[0].set_xticks(major_ticks)\n",
    "major_ticks = np.arange(0, 0.8*max_bc+5, 5)\n",
    "ax[0].set_yticks(major_ticks)\n",
    "ax[0].grid(which='both')\n",
    "ax[0].grid(True, color='grey')\n",
    "ax[0].set(xlabel='Heat demand (MWh/y)', ylabel='Biochar production (t/y)')    \n",
    "ax[0].annotate(pos[0], color='black', weight='bold', fontsize=16, xy=(0.05,27))\n",
    "\n",
    "# Annotations\n",
    "i=0\n",
    "fig = ax[0].annotate('', \n",
    "             xy=(H_C_ex[i], BC_C_ex[i]), xycoords='data',\n",
    "             xytext=(H_C_ex[i+1], BC_C_ex[i+1]), textcoords='data',\n",
    "             arrowprops={'arrowstyle': '<-'})\n",
    "ax[0].annotate(\n",
    "    'Greenhouse', xy=(H_C_ex[i+1], 0.5*(BC_C_ex[i]+BC_C_ex[i+1])), xycoords='data',\n",
    "    xytext=(0, 0), textcoords='offset points')\n",
    "i=1\n",
    "fig = ax[0].annotate('', \n",
    "             xy=(H_C_ex[i], np.array(BC_C_ex[i])), xycoords='data',\n",
    "             xytext=(H_C_ex[i+1], np.array(BC_C_ex[i+1])), textcoords='data',\n",
    "             arrowprops={'arrowstyle': '<-'})\n",
    "ax[0].annotate(\n",
    "    'Dryer', xy=(H_C_ex[i+1], 0.5*(BC_C_ex[i]+BC_C_ex[i+1])), xycoords='data',\n",
    "    xytext=(2, 2), textcoords='offset points')\n",
    "\n",
    "\n",
    "\n",
    "ax[1].scatter(H_C_ex, PC_C_ex, marker='o', color='blue', s=70) # pyro coverage\n",
    "ax[1].scatter(H_C_ex, ON_C_ex, marker='o', color='red', s=70) # pyro coverage\n",
    "\n",
    "major_ticks = np.arange(0, max_ht+50, 50)\n",
    "ax[1].set_xticks(major_ticks)\n",
    "major_ticks = np.arange(0, 1+0.1, 0.1)\n",
    "ax[1].set_yticks(major_ticks)\n",
    "ax[1].grid(which='both')\n",
    "ax[1].grid(True, color='grey')\n",
    "ax[1].set(xlabel='Heat demand (MWh/y)', ylabel='Heat from pyrolysis (blue) and uptime (red) (%)')    \n",
    "ax[1].annotate(pos[1], color='black', weight='bold', fontsize=16, xy=(15,0.90))\n",
    "\n",
    "plt.show()"
   ]
  },
  {
   "cell_type": "markdown",
   "metadata": {},
   "source": [
    "### Run Ficus & Brightway analysis"
   ]
  },
  {
   "cell_type": "code",
   "execution_count": 25,
   "metadata": {},
   "outputs": [],
   "source": [
    "# Year to study\n",
    "year='2017'\n",
    "calendar=False\n",
    "scenario = 'BioMaCon50kW_PL5MO7_expanded'\n"
   ]
  },
  {
   "cell_type": "code",
   "execution_count": 26,
   "metadata": {
    "scrolled": true
   },
   "outputs": [
    {
     "name": "stdout",
     "output_type": "stream",
     "text": [
      "Parsing sample_plants\n",
      "Calculating data for ficus input folder\n",
      "Writing ficus input file\n"
     ]
    },
    {
     "name": "stderr",
     "output_type": "stream",
     "text": [
      "C:\\Users\\eazzi\\AppData\\Local\\conda\\conda\\envs\\bw2\\lib\\site-packages\\openpyxl\\worksheet\\_reader.py:296: UserWarning: Unknown extension is not supported and will be removed\n",
      "  warn(msg)\n",
      "C:\\Users\\eazzi\\AppData\\Local\\conda\\conda\\envs\\bw2\\lib\\site-packages\\openpyxl\\worksheet\\_reader.py:296: UserWarning: Conditional Formatting extension is not supported and will be removed\n",
      "  warn(msg)\n"
     ]
    },
    {
     "name": "stdout",
     "output_type": "stream",
     "text": [
      "Read Data ...\n",
      "\n",
      "Data Read. time: 0.1 s\n",
      "\n",
      "Prepare Data ...\n",
      "\n",
      "Data Prepared. time: 0.0 s\n",
      "\n",
      "Define Model ...\n",
      "\n",
      "Model Defined. time: 1.5 s\n",
      "\n",
      "Solve Model ...\n",
      "\n",
      "\n",
      "Welcome to IBM(R) ILOG(R) CPLEX(R) Interactive Optimizer 12.8.0.0\n",
      "  with Simplex, Mixed Integer & Barrier Optimizers\n",
      "5725-A06 5725-A29 5724-Y48 5724-Y49 5724-Y54 5724-Y55 5655-Y21\n",
      "Copyright IBM Corp. 1988, 2017.  All Rights Reserved.\n",
      "\n",
      "Type 'help' for a list of available commands.\n",
      "Type 'help' followed by a command name for more\n",
      "information on commands.\n",
      "\n",
      "CPLEX> Logfile 'cplex.log' closed.\n",
      "Logfile 'C:\\Users\\eazzi\\AppData\\Local\\Temp\\tmp6lkjxsv6.cplex.log' open.\n",
      "CPLEX> New value for default parallel thread count: 2\n",
      "CPLEX> Problem 'C:\\Users\\eazzi\\AppData\\Local\\Temp\\tmp11cgs8xz.pyomo.lp' read.\n",
      "Read time = 0.01 sec. (0.37 ticks)\n",
      "CPLEX> Problem name         : C:\\Users\\eazzi\\AppData\\Local\\Temp\\tmp11cgs8xz.pyomo.lp\n",
      "Objective sense      : Minimize\n",
      "Variables            :    2943  [Nneg: 2935,  Free: 8]\n",
      "Objective nonzeros   :       8\n",
      "Linear constraints   :    4404  [Less: 1096,  Greater: 733,  Equal: 2575]\n",
      "  Nonzeros           :   10609\n",
      "  RHS nonzeros       :     368\n",
      "\n",
      "Variables            : Min LB: 0.0000000        Max UB: all infinite   \n",
      "Objective nonzeros   : Min   : 1.000000         Max   : 1.000000       \n",
      "Linear constraints   :\n",
      "  Nonzeros           : Min   : 1.000000         Max   : 2199.012       \n",
      "  RHS nonzeros       : Min   : 1.000000         Max   : 210467.9       \n",
      "CPLEX> CPXPARAM_Threads                                 2\n",
      "Parallel mode: deterministic, using up to 2 threads for concurrent optimization.\n",
      "Tried aggregator 1 time.\n",
      "LP Presolve eliminated 4404 rows and 2943 columns.\n",
      "All rows and columns eliminated.\n",
      "Presolve time = 0.00 sec. (1.67 ticks)\n",
      "\n",
      "Dual simplex - Optimal:  Objective =  9.6414625150e+06\n",
      "Solution time =    0.00 sec.  Iterations = 0 (0)\n",
      "Deterministic time = 3.20 ticks  (3196.40 ticks/sec)\n",
      "\n",
      "CPLEX> Solution written to file 'C:\\Users\\eazzi\\AppData\\Local\\Temp\\tmpufv6e9pm.cplex.sol'.\n",
      "CPLEX> Model Solved. time: 0.4 s\n",
      "\n",
      "Load Results ...\n",
      "\n",
      "Results Loaded. time: 0.0 s\n",
      "\n",
      "Total Time: 2.0 s\n",
      "\n",
      "Save Results to Reportfile...\n",
      "\n",
      "Results Saved. time: 0.3 s\n",
      "\n"
     ]
    },
    {
     "name": "stderr",
     "output_type": "stream",
     "text": [
      "C:\\Users\\eazzi\\Box Sync\\KTH_PhD_HeavyData\\P2_farm_biochar\\ex1_Lindeborg\\..\\farm_biochar_model\\farm_ficus.py:2202: FutureWarning: Method .as_matrix will be removed in a future version. Use .values instead.\n",
      "  sp_crtd = ax0.stackplot(step_edit_x(created.index), step_edit_y(created.as_matrix().T), linewidth=0.15)\n",
      "C:\\Users\\eazzi\\Box Sync\\KTH_PhD_HeavyData\\P2_farm_biochar\\ex1_Lindeborg\\..\\farm_biochar_model\\farm_ficus.py:2212: FutureWarning: Method .as_matrix will be removed in a future version. Use .values instead.\n",
      "  sp_csmd = ax0.stackplot(step_edit_x(consumed.index), step_edit_y(-consumed.as_matrix().T), linewidth=0.15)\n",
      "No handles with labels found to put in legend.\n"
     ]
    },
    {
     "name": "stdout",
     "output_type": "stream",
     "text": [
      "Compile ficus lci and lcia\n",
      "9.641462515029032 ton CO2-eq, net score, for 1 year of farm-energy\n",
      "Towards bw2...\n",
      "bw2# Add production processes, manufacturing, and start-ups\n",
      "bw2# Add technosphere and biosphere flows to each production process\n",
      "## bw2 Calculate apparent mix for ... el. heater\n",
      "Current project is:  cs1_Lindeborgs\n",
      "Read only mode:  False\n"
     ]
    },
    {
     "name": "stderr",
     "output_type": "stream",
     "text": [
      "Writing activities to SQLite3 database:\n",
      "0% [##############################] 100% | ETA: 00:00:00\n",
      "Total time elapsed: 00:00:00\n"
     ]
    },
    {
     "name": "stdout",
     "output_type": "stream",
     "text": [
      "Title: Writing activities to SQLite3 database:\n",
      "  Started: 03/18/2020 18:08:53\n",
      "  Finished: 03/18/2020 18:08:53\n",
      "  Total time elapsed: 00:00:00\n",
      "  CPU %: 61.70\n",
      "  Memory %: 2.48\n",
      "Scenario  BioMaCon50kW_PL5MO7_expanded  is now ready for analysis in Activity-Browser\n"
     ]
    }
   ],
   "source": [
    "# farm_demand is here the variable 'combined'\n",
    "\n",
    "# plants parsed and ficus file written\n",
    "farm_supply = fs.run_scn_ficus_writer(plants_folder, plants_file,\n",
    "                                      tb, tb_start, tb_end, \n",
    "                                      calendar,\n",
    "                                      commodities_imp, commodities_exp, import_max, export_max, \n",
    "                                      el_folder, el_file, el_tab, \n",
    "                                      ef_pellets, biochar_seq, \n",
    "                                      plantsAvailable, combined, year, elec_yr,\n",
    "                                      afp, ficus_files, scenario)\n",
    "# run ficus milp\n",
    "prob = ff.run_ficus(afp+ficus_files+scenario+'.xlsx', opt = 'cplex', MipGap = 0)\n",
    "\n",
    "# saving ficus report and figures\n",
    "result_dir = ff.prepare_result_directory(afp+ex+'/output_files', scenario)\n",
    "ff.report(prob, result_dir)\n",
    "ff.result_figures(result_dir,prob=prob, show=False)\n",
    "\n",
    "# printing final report and bw2-LCA\n",
    "lci_t, lcia_t = fb.run_scn_bw2(result_dir, 'result-'+scenario+'.xlsx',\n",
    "                                year, calendar, p2e, plantsAvailable,\n",
    "                                afp, ficus_files, scenario,\n",
    "                                proj, fg_db, fresh_db=False,\n",
    "                                plantEmissions=True, plantManufacturing=True, show_plot = False)"
   ]
  },
  {
   "cell_type": "code",
   "execution_count": null,
   "metadata": {},
   "outputs": [],
   "source": []
  }
 ],
 "metadata": {
  "celltoolbar": "Initialization Cell",
  "kernelspec": {
   "display_name": "Python 3",
   "language": "python",
   "name": "python3"
  },
  "language_info": {
   "codemirror_mode": {
    "name": "ipython",
    "version": 3
   },
   "file_extension": ".py",
   "mimetype": "text/x-python",
   "name": "python",
   "nbconvert_exporter": "python",
   "pygments_lexer": "ipython3",
   "version": "3.6.8"
  },
  "toc": {
   "base_numbering": 1,
   "nav_menu": {
    "height": "180px",
    "width": "309px"
   },
   "number_sections": true,
   "sideBar": true,
   "skip_h1_title": true,
   "title_cell": "Table of Contents",
   "title_sidebar": "Contents",
   "toc_cell": false,
   "toc_position": {
    "height": "330.1px",
    "left": "0px",
    "top": "524.5px",
    "width": "305.8px"
   },
   "toc_section_display": true,
   "toc_window_display": true
  }
 },
 "nbformat": 4,
 "nbformat_minor": 2
}
